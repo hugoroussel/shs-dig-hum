{
 "cells": [
  {
   "cell_type": "code",
   "execution_count": 1,
   "metadata": {},
   "outputs": [],
   "source": [
    "import json\n",
    "import os\n",
    "from bz2 import BZ2File\n",
    "from datetime import date\n",
    "from collections import Counter\n",
    "import unicodedata"
   ]
  },
  {
   "cell_type": "code",
   "execution_count": 2,
   "metadata": {},
   "outputs": [
    {
     "name": "stdout",
     "output_type": "stream",
     "text": [
      "CPU times: user 11.9 s, sys: 292 ms, total: 12.2 s\n",
      "Wall time: 12.3 s\n"
     ]
    }
   ],
   "source": [
    "%%time\n",
    "articles = []\n",
    "# open the archive\n",
    "f = BZ2File(os.path.join(\"./data\", \"cleaned.json.bz2\"), 'r')\n",
    "extracted_articles = json.loads(f.read().decode('utf-8'))"
   ]
  },
  {
   "cell_type": "code",
   "execution_count": 3,
   "metadata": {},
   "outputs": [],
   "source": [
    "def remove_accents(input_str):\n",
    "    nfkd_form = unicodedata.normalize('NFKD', input_str)\n",
    "    return u\"\".join([c for c in nfkd_form if not unicodedata.combining(c)])"
   ]
  },
  {
   "cell_type": "code",
   "execution_count": 4,
   "metadata": {},
   "outputs": [
    {
     "name": "stdout",
     "output_type": "stream",
     "text": [
      "CPU times: user 34.4 s, sys: 143 ms, total: 34.5 s\n",
      "Wall time: 34.6 s\n"
     ]
    }
   ],
   "source": [
    "%%time\n",
    "articles = []\n",
    "for i in extracted_articles[\"id\"]:\n",
    "    articles.append({\n",
    "        \"id\": i,\n",
    "        \"journal\": extracted_articles[\"journal\"][i],\n",
    "        \"date\": date.fromtimestamp(extracted_articles[\"date\"][i] / 1000),\n",
    "        \"length\": extracted_articles[\"length\"][i],\n",
    "        \"text\": remove_accents(extracted_articles[\"text\"][i]).lower().replace('.', ' ').replace('\\'', ' ').replace(';', ' ').replace(',', ' ').replace('—', ' ')\n",
    "    })"
   ]
  },
  {
   "cell_type": "code",
   "execution_count": 5,
   "metadata": {},
   "outputs": [
    {
     "name": "stdout",
     "output_type": "stream",
     "text": [
      "50728\n"
     ]
    }
   ],
   "source": [
    "print(len(articles))"
   ]
  },
  {
   "cell_type": "code",
   "execution_count": 6,
   "metadata": {},
   "outputs": [
    {
     "name": "stdout",
     "output_type": "stream",
     "text": [
      "1900 0\n",
      "1910 0\n",
      "1920 0\n",
      "1930 13\n",
      "1940 176\n",
      "1950 5367\n",
      "1960 11757\n",
      "1970 10255\n",
      "1980 15848\n",
      "1990 7312\n"
     ]
    }
   ],
   "source": [
    "for year in range(190, 200):\n",
    "    a = [a for a in articles if str(year) in str(a[\"date\"].year)]\n",
    "    print(year * 10, len(a))"
   ]
  },
  {
   "cell_type": "code",
   "execution_count": 7,
   "metadata": {},
   "outputs": [],
   "source": [
    "excluded_words = ['de', 'la', 'les', 'des', 'et', 'le', 'que', 'en', 'une', 'un',\n",
    "                  'qui', 'par', ':', ';', 'dans', 'du', 'est', 'a', 'plus', 'ne', 'se',\n",
    "                  'au', 'sont', '«', 'on', 'd', 'il', 'ces', 'pas', 'sur', 'pour',\n",
    "                  'dont', 'ce', 'ou', 'avec', 'cette', 'si', 'nous', 'comme', 'm',\n",
    "                  'elle', 'l', 'leur', 'mais', 'deux', 'sans', 'ont', 'y', '»', 'ses',\n",
    "                  'aussi', 'ete', 'donc', 'meme', 'c', '»', 's', 'qu', 'n', 'la', 'les',\n",
    "                  'm', 'l', 'on', 'il', 'etre', 'ainsi', 'en', 'qu', 's', 'aux', 'ils',\n",
    "                  '?', 'bien', 'sa', 'peut', 'leurs', 'autre', 'nombre', 'autres', 'son',\n",
    "                  'tous', 'encore', 'lui', 'tres', 'fait', 'tout', 'etait', 'apres'\n",
    "                  'sous', 'faire', 'toutes', 'simples', 'notre', 'entre', 'sera', 'e',\n",
    "                  'avait', '~', 'notre', '1', '/', '%', 'entre', 'contre', 'h', 'apres',\n",
    "                  'sous', 'soit', 'fut', 'quelques', 'point', '000', 'deja', 'toute',\n",
    "                  'moins', '*', 'u', 'non', ')', '(', 't', '\"', '2', 'i', '4', 'part',\n",
    "                  '00', 'selon', 'ans', '20', '30', 'depuis', '10', 'dan', 'plu', '',\n",
    "                  'pa', 'nou', 'mai', 'san', 'simple', 'tou', 'tre', 'effet', 'quelque',\n",
    "                  'ans', 'an', 'annee', 'annees', 'apre', 'depui']"
   ]
  },
  {
   "cell_type": "code",
   "execution_count": 8,
   "metadata": {
    "scrolled": true
   },
   "outputs": [
    {
     "name": "stdout",
     "output_type": "stream",
     "text": [
      "1900 []\n",
      "1910 []\n",
      "1920 []\n",
      "1930 [('atome', 54), ('electron', 53), ('element', 42), ('corp', 39), ('noyau', 39), ('physique', 35), ('cosmique', 35), ('particule', 34), ('proton', 30), ('matiere', 28), ('atomique', 26), ('rayonnement', 24), ('rayon', 23), ('propriete', 22), ('neutron', 21), ('vie', 21), ('nucleaire', 19), ('champ', 19), ('phenomene', 18), ('recherche', 18)]\n",
      "1940 [('atomique', 740), ('energie', 536), ('guerre', 329), ('bombe', 307), ('nucleaire', 258), ('homme', 243), ('controle', 222), ('recherche', 213), ('etat', 203), ('monde', 200), ('commission', 191), ('probleme', 184), ('grande', 184), ('etats-uni', 183), ('science', 180), ('professeur', 179), ('americain', 174), ('pay', 167), ('premiere', 166), ('experience', 164)]\n",
      "1950 [('nucleaire', 10611), ('atomique', 10238), ('energie', 6909), ('pay', 6434), ('sovietique', 5522), ('conference', 5411), ('arme', 5059), ('suisse', 4943), ('etat', 4898), ('gouvernement', 4838), ('etats-uni', 4803), ('politique', 4407), ('probleme', 4091), ('president', 3967), ('conseil', 3742), ('accord', 3680), ('question', 3651), ('recherche', 3570), ('guerre', 3563), ('geneve', 3348)]\n",
      "1960 [('nucleaire', 26442), ('pay', 13846), ('sovietique', 13450), ('etats-uni', 12470), ('politique', 11292), ('etat', 10862), ('president', 10230), ('gouvernement', 9935), ('atomique', 9591), ('force', 9305), ('arme', 9280), ('americain', 8734), ('suisse', 8599), ('accord', 8239), ('conference', 8191), ('probleme', 7980), ('general', 7750), ('ministre', 7371), ('france', 7183), ('traite', 6944)]\n",
      "1970 [('nucleaire', 26483), ('energie', 15786), ('centrale', 13612), ('suisse', 12546), ('pay', 10905), ('politique', 8863), ('etat', 8140), ('conseil', 7825), ('million', 7020), ('etats-uni', 7004), ('president', 6572), ('societe', 6052), ('accord', 5527), ('gouvernement', 5467), ('sovietique', 5448), ('probleme', 5392), ('france', 5349), ('3', 5248), ('nouvelle', 5230), ('cour', 5177)]\n",
      "1980 [('nucleaire', 36314), ('suisse', 17823), ('energie', 17314), ('centrale', 15519), ('sovietique', 15320), ('pay', 14116), ('politique', 12170), ('etat', 11717), ('conseil', 11592), ('president', 10801), ('americain', 9376), ('million', 9148), ('etats-uni', 8932), ('arme', 8475), ('nouvelle', 8200), ('geneve', 8044), ('europe', 7764), ('federal', 7758), ('gouvernement', 7735), ('5', 7721)]\n",
      "1990 [('nucleaire', 15788), ('suisse', 9131), ('pay', 7389), ('etat', 7055), ('president', 6026), ('energie', 5896), ('centrale', 5672), ('page', 5568), ('politique', 5491), ('conseil', 4902), ('geneve', 4609), ('nouvelle', 4200), ('premier', 4196), ('dernier', 3970), ('arme', 3940), ('france', 3839), ('million', 3756), ('ministre', 3705), ('15', 3686), ('troi', 3611)]\n",
      "CPU times: user 14.9 s, sys: 53.1 ms, total: 15 s\n",
      "Wall time: 15 s\n"
     ]
    }
   ],
   "source": [
    "%%time\n",
    "for year in range(190, 200):\n",
    "    counter = Counter()\n",
    "    for article in [a for a in articles if str(year) in str(a[\"date\"].year)]:\n",
    "        words = []\n",
    "        for word in article[\"text\"].split():\n",
    "            if word[-1] == 's':\n",
    "                words.append(word[:-1])\n",
    "            else:\n",
    "                words.append(word)\n",
    "        counter.update(words)\n",
    "    for word in excluded_words:\n",
    "        del counter[word]\n",
    "    print(year * 10, counter.most_common(20))"
   ]
  },
  {
   "cell_type": "code",
   "execution_count": null,
   "metadata": {},
   "outputs": [],
   "source": []
  }
 ],
 "metadata": {
  "kernelspec": {
   "display_name": "Python 3",
   "language": "python",
   "name": "python3"
  },
  "language_info": {
   "codemirror_mode": {
    "name": "ipython",
    "version": 3
   },
   "file_extension": ".py",
   "mimetype": "text/x-python",
   "name": "python",
   "nbconvert_exporter": "python",
   "pygments_lexer": "ipython3",
   "version": "3.7.6"
  }
 },
 "nbformat": 4,
 "nbformat_minor": 4
}

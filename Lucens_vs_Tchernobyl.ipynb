{
 "cells": [
  {
   "cell_type": "code",
   "execution_count": 1,
   "metadata": {},
   "outputs": [],
   "source": [
    "import json\n",
    "import os\n",
    "from bz2 import BZ2File\n",
    "from datetime import date\n",
    "from collections import Counter\n",
    "import unicodedata\n",
    "import matplotlib\n",
    "import matplotlib.pyplot as plt\n",
    "import numpy as np"
   ]
  },
  {
   "cell_type": "code",
   "execution_count": 2,
   "metadata": {},
   "outputs": [
    {
     "name": "stdout",
     "output_type": "stream",
     "text": [
      "CPU times: user 9.7 s, sys: 216 ms, total: 9.91 s\n",
      "Wall time: 9.93 s\n"
     ]
    }
   ],
   "source": [
    "%%time\n",
    "articles = []\n",
    "# open the archive\n",
    "f = BZ2File(os.path.join(\"./data\", \"cleaned.json.bz2.old\"), 'r')\n",
    "extracted_articles = json.loads(f.read().decode('utf-8'))"
   ]
  },
  {
   "cell_type": "code",
   "execution_count": 3,
   "metadata": {},
   "outputs": [],
   "source": [
    "range_low = 1958\n",
    "range_high = 2000"
   ]
  },
  {
   "cell_type": "code",
   "execution_count": 4,
   "metadata": {},
   "outputs": [
    {
     "name": "stdout",
     "output_type": "stream",
     "text": [
      "index < 0 lucens\n",
      "CPU times: user 2.44 s, sys: 778 µs, total: 2.44 s\n",
      "Wall time: 2.45 s\n"
     ]
    }
   ],
   "source": [
    "%%time\n",
    "\n",
    "apparitions_lucens = [0 for _ in range(range_low, range_high)]\n",
    "apparitions_tchernobyl = [0 for _ in range(range_low, range_high)]\n",
    "apparitions_three = [0 for _ in range(range_low, range_high)]\n",
    "\n",
    "for i in extracted_articles[\"id\"]:\n",
    "    if 'lucens' in extracted_articles[\"text\"][i].lower():\n",
    "        date = date.fromtimestamp(extracted_articles[\"date\"][i] / 1000)\n",
    "        index = date.year - range_low\n",
    "        if index < 0:\n",
    "            print(\"index < 0 lucens\")\n",
    "            continue\n",
    "        apparitions_lucens[index] += 1\n",
    "    if 'chernobyl' in extracted_articles[\"text\"][i].lower():\n",
    "        date = date.fromtimestamp(extracted_articles[\"date\"][i] / 1000)\n",
    "        index = date.year - range_low\n",
    "        if index < 0:\n",
    "            print(\"index < 0 tchernobyl\")\n",
    "            continue\n",
    "        apparitions_tchernobyl[index] += 1\n",
    "    if 'three' in extracted_articles[\"text\"][i].lower():\n",
    "        date = date.fromtimestamp(extracted_articles[\"date\"][i] / 1000)\n",
    "        index = date.year - range_low\n",
    "        if index < 0:\n",
    "            print(\"index < 0 three\")\n",
    "            continue\n",
    "        apparitions_three[index] += 1"
   ]
  },
  {
   "cell_type": "code",
   "execution_count": 9,
   "metadata": {},
   "outputs": [
    {
     "name": "stdout",
     "output_type": "stream",
     "text": [
      "Current size: [16.0, 6.0]\n"
     ]
    },
    {
     "data": {
      "image/png": "[encoded data removed]",
      "text/plain": [
       "<Figure size 1152x432 with 1 Axes>"
      ]
     },
     "metadata": {
      "needs_background": "light"
     },
     "output_type": "display_data"
    }
   ],
   "source": [
    "labels = [y for y in range(range_low, range_high)]\n",
    "\n",
    "x = np.arange(len(labels))  # the label locations\n",
    "width = 0.35  # the width of the bars\n",
    "\n",
    "fig, ax = plt.subplots()\n",
    "rects1 = ax.bar(x - width/3, apparitions_lucens, width / 3, label='Lucens')\n",
    "rects2 = ax.bar(x, apparitions_three, width / 3, label='Three Mile Island')\n",
    "rects3 = ax.bar(x + width/3, apparitions_tchernobyl, width / 3, label='Tchernobyl')\n",
    "\n",
    "# Add some text for labels, title and custom x-axis tick labels, etc.\n",
    "ax.set_ylabel('Nombre d\\'apparition')\n",
    "ax.set_title('Apparitions par évènement')\n",
    "ax.set_xticks(x)\n",
    "ax.set_xticklabels(labels)\n",
    "ax.legend()\n",
    "\n",
    "def autolabel(rects):\n",
    "    \"\"\" Attach a text label above each bar in *rects*, displaying its height.\"\"\"\n",
    "    for rect in rects:\n",
    "        height = rect.get_height()\n",
    "        ax.annotate('{}'.format(height),\n",
    "                    xy=(rect.get_x() + rect.get_width() / 2, height),\n",
    "                    xytext=(0, 3),  # 3 points vertical offset\n",
    "                    textcoords=\"offset points\",\n",
    "                    ha='center', va='bottom')\n",
    "\n",
    "\n",
    "# autolabel(rects1)\n",
    "# autolabel(rects2)\n",
    "# fig.tight_layout()\n",
    "\n",
    "# Get current size\n",
    "fig_size = plt.rcParams[\"figure.figsize\"]\n",
    "\n",
    "# Prints: [8.0, 6.0]\n",
    "print(\"Current size:\", fig_size)\n",
    "\n",
    "# Set figure width to 12 and height to 9\n",
    "fig_size[0] = 16\n",
    "fig_size[1] = 6\n",
    "plt.rcParams[\"figure.figsize\"] = fig_size\n",
    "\n",
    "plt.xticks(rotation='vertical')\n",
    "\n",
    "plt.show()"
   ]
  },
  {
   "cell_type": "code",
   "execution_count": null,
   "metadata": {},
   "outputs": [],
   "source": []
  }
 ],
 "metadata": {
  "kernelspec": {
   "display_name": "Python 3",
   "language": "python",
   "name": "python3"
  },
  "language_info": {
   "codemirror_mode": {
    "name": "ipython",
    "version": 3
   },
   "file_extension": ".py",
   "mimetype": "text/x-python",
   "name": "python",
   "nbconvert_exporter": "python",
   "pygments_lexer": "ipython3",
   "version": "3.7.6"
  }
 },
 "nbformat": 4,
 "nbformat_minor": 4
}

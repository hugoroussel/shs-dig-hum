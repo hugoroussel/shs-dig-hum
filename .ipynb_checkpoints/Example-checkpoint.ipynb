{
 "cells": [
  {
   "cell_type": "code",
   "execution_count": 1,
   "metadata": {},
   "outputs": [],
   "source": [
    "import json\n",
    "import os\n",
    "import bz2\n",
    "import io\n",
    "from bz2 import BZ2File"
   ]
  },
  {
   "cell_type": "markdown",
   "metadata": {},
   "source": [
    "### Transform the data\n"
   ]
  },
  {
   "cell_type": "markdown",
   "metadata": {},
   "source": [
    "You can run bash commands from your notebook, just prefix the command with `!`\n",
    "\n",
    "For example, let's check free space on the disk:"
   ]
  },
  {
   "cell_type": "code",
   "execution_count": 2,
   "metadata": {},
   "outputs": [
    {
     "name": "stdout",
     "output_type": "stream",
     "text": [
      "Filesystem                                                   Size   Used  Avail Capacity iused      ifree %iused  Mounted on\n",
      "/dev/disk1s5                                                466Gi   15Gi  211Gi     7%  485949 4881966891    0%   /\n",
      "devfs                                                       347Ki  347Ki    0Bi   100%    1202          0  100%   /dev\n",
      "/dev/disk1s1                                                466Gi  233Gi  211Gi    53% 3352173 4879100667    0%   /System/Volumes/Data\n",
      "/dev/disk1s4                                                466Gi  5.0Gi  211Gi     3%       6 4882452834    0%   /private/var/vm\n",
      "map auto_home                                                 0Bi    0Bi    0Bi   100%       0          0  100%   /System/Volumes/Data/home\n",
      "/dev/disk1s3                                                466Gi  502Mi  211Gi     1%      38 4882452802    0%   /Volumes/Recovery\n",
      "com.apple.TimeMachine.2020-02-28-075704.local@/dev/disk1s1  466Gi  221Gi  211Gi    52% 3330208 4879122632    0%   /Volumes/com.apple.TimeMachine.localsnapshots/Backups.backupdb/hugo/2020-02-28-075704/Macintosh HD - Données\n",
      "com.apple.TimeMachine.2020-02-28-075704.local@/dev/disk1s5  466Gi   15Gi  211Gi     7%  485949 4881966891    0%   /Volumes/com.apple.TimeMachine.localsnapshots/Backups.backupdb/hugo/2020-02-28-075704/Macintosh HD\n"
     ]
    }
   ],
   "source": [
    "! df -h"
   ]
  },
  {
   "cell_type": "markdown",
   "metadata": {},
   "source": [
    "whereas without `!` it won't work:"
   ]
  },
  {
   "cell_type": "code",
   "execution_count": 3,
   "metadata": {},
   "outputs": [
    {
     "ename": "NameError",
     "evalue": "name 'df' is not defined",
     "output_type": "error",
     "traceback": [
      "\u001b[0;31m---------------------------------------------------------------------------\u001b[0m",
      "\u001b[0;31mNameError\u001b[0m                                 Traceback (most recent call last)",
      "\u001b[0;32m<ipython-input-3-c989bd551bfa>\u001b[0m in \u001b[0;36m<module>\u001b[0;34m\u001b[0m\n\u001b[0;32m----> 1\u001b[0;31m \u001b[0mdf\u001b[0m \u001b[0;34m-\u001b[0m\u001b[0mh\u001b[0m\u001b[0;34m\u001b[0m\u001b[0;34m\u001b[0m\u001b[0m\n\u001b[0m",
      "\u001b[0;31mNameError\u001b[0m: name 'df' is not defined"
     ]
    }
   ],
   "source": [
    "df -h"
   ]
  },
  {
   "cell_type": "code",
   "execution_count": 4,
   "metadata": {},
   "outputs": [],
   "source": [
    "# rm data/*"
   ]
  },
  {
   "cell_type": "code",
   "execution_count": 8,
   "metadata": {},
   "outputs": [
    {
     "name": "stdout",
     "output_type": "stream",
     "text": [
      "download: 's3://impresso-public/sample-rebuilt-teaching/GDL-1900.jsonl.bz2' -> 'data/GDL-1900.jsonl.bz2'  [1 of 2]\n",
      " 72413580 of 72413580   100% in    0s    85.86 MB/s  done\n",
      "download: 's3://impresso-public/sample-rebuilt-teaching/JDG-1900.jsonl.bz2' -> 'data/JDG-1900.jsonl.bz2'  [2 of 2]\n",
      " 210016648 of 210016648   100% in    1s   101.29 MB/s  done\n"
     ]
    }
   ],
   "source": [
    "!s3cmd get s3://impresso-public/sample-rebuilt-teaching/* data/"
   ]
  },
  {
   "cell_type": "code",
   "execution_count": 14,
   "metadata": {},
   "outputs": [
    {
     "name": "stdout",
     "output_type": "stream",
     "text": [
      "/Users/hugo/Code/shs-dig-hum/data\n"
     ]
    }
   ],
   "source": [
    "cd data/"
   ]
  },
  {
   "cell_type": "code",
   "execution_count": 15,
   "metadata": {},
   "outputs": [
    {
     "name": "stdout",
     "output_type": "stream",
     "text": [
      "total 233664\n",
      "drwxr-xr-x  4 hugo  staff        128 11 mar 09:49 \u001b[1m\u001b[36m.\u001b[m\u001b[m/\n",
      "drwxr-xr-x  9 hugo  staff        288 11 mar 10:01 \u001b[1m\u001b[36m..\u001b[m\u001b[m/\n",
      "-rw-r--r--  1 hugo  staff    2060288 11 mar 10:00 GDL-1969-reduced.jsonl.bz2\n",
      "-rw-r--r--@ 1 hugo  staff  107227845 26 fév 16:21 GDL-1969.jsonl.bz2\n"
     ]
    }
   ],
   "source": [
    "ls -la"
   ]
  },
  {
   "cell_type": "markdown",
   "metadata": {},
   "source": [
    "The command here below does the following things:\n",
    "- reads the `bz2` files in the current directory one by one\n",
    "- for each file calls `jq` and uses to reshape the JSON documents, selecting and renaming some fields\n",
    "- passes on the reshaped documents to `bzip2` which creates a new file, having same name + a `-reduced` prefix and containing the reshaped data\n",
    "\n",
    "Why is useful to do this before processing the data?\n",
    "\n",
    "Our data contain quite a lot of information that won't be useful to you. By filtering it out you reduce the size of data and speed up the processing."
   ]
  },
  {
   "cell_type": "code",
   "execution_count": 17,
   "metadata": {},
   "outputs": [
    {
     "name": "stdout",
     "output_type": "stream",
     "text": [
      "CPU times: user 790 ms, sys: 212 ms, total: 1 s\n",
      "Wall time: 44.3 s\n"
     ]
    }
   ],
   "source": [
    "%%time\n",
    "!for f in *[0-9].jsonl.bz2; do bzcat $f | jq -c '{id: .id, type: .tp, date: .d, title: .t, fulltext: .ft}' | bzip2 > \"${f%.jsonl.bz2}-reduced.jsonl.bz2\" ; done"
   ]
  },
  {
   "cell_type": "code",
   "execution_count": 18,
   "metadata": {},
   "outputs": [
    {
     "name": "stdout",
     "output_type": "stream",
     "text": [
      "total 264384\n",
      "drwxr-xr-x  4 hugo  staff        128 11 mar 09:49 \u001b[1m\u001b[36m.\u001b[m\u001b[m/\n",
      "drwxr-xr-x  9 hugo  staff        288 11 mar 10:01 \u001b[1m\u001b[36m..\u001b[m\u001b[m/\n",
      "-rw-r--r--  1 hugo  staff   17183966 11 mar 10:02 GDL-1969-reduced.jsonl.bz2\n",
      "-rw-r--r--@ 1 hugo  staff  107227845 26 fév 16:21 GDL-1969.jsonl.bz2\n"
     ]
    }
   ],
   "source": [
    "ls -la ./"
   ]
  },
  {
   "cell_type": "code",
   "execution_count": 19,
   "metadata": {},
   "outputs": [
    {
     "name": "stdout",
     "output_type": "stream",
     "text": [
      "/Users/hugo/Code/shs-dig-hum\n"
     ]
    }
   ],
   "source": [
    "cd ../"
   ]
  },
  {
   "cell_type": "markdown",
   "metadata": {},
   "source": [
    "### Reading newspaper archive data\n",
    "\n",
    "Reminder: the data is already 'clean' and the files at hand contains only the following information:\n",
    "- id\n",
    "- date\n",
    "- title\n",
    "- type (article or advertisement)\n",
    "- fulltext"
   ]
  },
  {
   "cell_type": "code",
   "execution_count": 20,
   "metadata": {},
   "outputs": [
    {
     "data": {
      "text/plain": [
       "'/Users/hugo/Code/shs-dig-hum'"
      ]
     },
     "execution_count": 20,
     "metadata": {},
     "output_type": "execute_result"
    }
   ],
   "source": [
    "pwd"
   ]
  },
  {
   "cell_type": "code",
   "execution_count": 21,
   "metadata": {},
   "outputs": [],
   "source": [
    "input_dir = \"data/\" # update with your path "
   ]
  },
  {
   "cell_type": "code",
   "execution_count": 22,
   "metadata": {},
   "outputs": [],
   "source": [
    "# a helper function to get the lines from am archive\n",
    "def read_jsonlines(bz2_file):\n",
    "    text = bz2_file.read().decode('utf-8')\n",
    "    for line in text.split('\\n'):\n",
    "        if line != '':\n",
    "            yield line"
   ]
  },
  {
   "cell_type": "markdown",
   "metadata": {},
   "source": [
    "### reading data the classical way"
   ]
  },
  {
   "cell_type": "code",
   "execution_count": 23,
   "metadata": {
    "code_folding": [
     0
    ],
    "collapsed": true,
    "jupyter": {
     "outputs_hidden": true
    }
   },
   "outputs": [
    {
     "name": "stdout",
     "output_type": "stream",
     "text": [
      "1969-07-07 GDL-1969-07-07-a-i0001 Privée de gouvernement l'Italie est inquiète\n",
      "1969-07-07 GDL-1969-07-07-a-i0009 None\n",
      "1969-07-07 GDL-1969-07-07-a-i0010 Cent évêques européens aujourd'hui à Coire\n",
      "1969-07-07 GDL-1969-07-07-a-i0024 Meta Antenen: record du monde\n",
      "1969-07-07 GDL-1969-07-07-a-i0035 GAÉTAN GANY A ESSAYÉ POUR VOUS Une Opel dans le vent: la GT 1,\n",
      "1969-07-07 GDL-1969-07-07-a-i0041 None\n",
      "1969-07-07 GDL-1969-07-07-a-i0054 FEUILLETON ERIC MALPASS Le Matin est servi\n",
      "1969-07-07 GDL-1969-07-07-a-i0068 L'Institut suisse de recherches expérimentales sur le cancer prévoit la construction d'un nouveau bâtiment\n",
      "1969-07-07 GDL-1969-07-07-a-i0089 Lundi 7 juillet 1969 SE JOUANT DE TOUTES LES DIFFICULTÉS DU PARCOURS Gazette de Lausanne Jacky Stewart remporte le deuxième Grand Prix de France à Clermont-Ferrand 9 MAGNIFIQUE BATAILLE ENTRE ICKX ET BELTOISE 625 . 819\n",
      "1969-07-07 GDL-1969-07-07-a-i0098 Vive tension entre tribus au Kenya\n",
      "1969-07-07 GDL-1969-07-07-a-i0002 Un point pour les syndicats\n",
      "1969-07-07 GDL-1969-07-07-a-i0011 UN FESTIVAL EN ALTITUDE Journées du film alpin aux Diablerets\n",
      "1969-07-07 GDL-1969-07-07-a-i0025 Triomphe suisse aux Régates de Henley\n",
      "1969-07-07 GDL-1969-07-07-a-i0036 None\n",
      "1969-07-07 GDL-1969-07-07-a-i0042 None\n",
      "1969-07-07 GDL-1969-07-07-a-i0055 • Spectacles\n",
      "1969-07-07 GDL-1969-07-07-a-i0069 Le pasteur Charles Freundler est mort\n",
      "1969-07-07 GDL-1969-07-07-a-i0090 La relève est assurée\n",
      "1969-07-07 GDL-1969-07-07-a-i0099 «Les contacts entre Etats à systèmes sociaux divers: un phénomène très naturel»\n",
      "1969-07-07 GDL-1969-07-07-a-i0003 None\n",
      "1969-07-07 GDL-1969-07-07-a-i0012 LES ANNALES DE L'ALPINISME ENREGISTRENT UN RECORD: une volée de 55 guides\n",
      "1969-07-07 GDL-1969-07-07-a-i0026 Journées olympiques de Lausanne une révélation et un grand espoir\n",
      "1969-07-07 GDL-1969-07-07-a-i0037 None\n",
      "1969-07-07 GDL-1969-07-07-a-i0043 None\n",
      "1969-07-07 GDL-1969-07-07-a-i0056 Télé votre bon plaisir\n",
      "1969-07-07 GDL-1969-07-07-a-i0070 Election du Législatif LUTRY VIENT D'ADOPTER LE SYSTÈME PROPORTIONNEL\n",
      "1969-07-07 GDL-1969-07-07-a-i0091 ACCIDENTS ET FAITS DIVERS\n",
      "1969-07-07 GDL-1969-07-07-a-i0100 WILHELM BACKHAUS N'EST PLUS\n",
      "1969-07-07 GDL-1969-07-07-a-i0004 Le voyage de M. Nixon en Asie et en Roumanie La grande prudence du Kremlin\n",
      "1969-07-07 GDL-1969-07-07-a-i0013 Des civils en visite L'école de recrues de Sion recevait hier parents et amis\n",
      "1969-07-07 GDL-1969-07-07-a-i0027 Rod Laver a remporté sa quatrième finale de Wimbledon\n",
      "1969-07-07 GDL-1969-07-07-a-i0038 None\n",
      "1969-07-07 GDL-1969-07-07-a-i0044 None\n",
      "1969-07-07 GDL-1969-07-07-a-i0057 Emissions radiophoniques\n",
      "1969-07-07 GDL-1969-07-07-a-i0071 Le quatuor d'été de l'Age d'Homme\n",
      "1969-07-07 GDL-1969-07-07-a-i0092 None\n",
      "1969-07-07 GDL-1969-07-07-a-i0101 «A deux reprises, nous nous trouverons sans aucune possibilité de sauvetage»\n",
      "1969-07-07 GDL-1969-07-07-a-i0005 None\n",
      "1969-07-07 GDL-1969-07-07-a-i0014 A PROPOS DU 49e TIR FÉDÉRAL Les 145 ans d'histoire de la Société suisse des carabiniers\n",
      "1969-07-07 GDL-1969-07-07-a-i0028 Rentrée remarquée de Wiedmer sur 400 m.\n",
      "1969-07-07 GDL-1969-07-07-a-i0039 Tunnel routier du St-Gothard : INSUFFISANT AVANT D'ÊTRE CONSTRUIT ?\n",
      "1969-07-07 GDL-1969-07-07-a-i0045 None\n",
      "1969-07-07 GDL-1969-07-07-a-i0058 Les belles auditions musicales\n",
      "1969-07-07 GDL-1969-07-07-a-i0072 Chexbres inaugure la piscine nommée du Balcon du Léman\n",
      "1969-07-07 GDL-1969-07-07-a-i0093 AU TOUR DE FRANCE MERCKX AUGMENTE ENCORE SON AVANCE\n",
      "1969-07-07 GDL-1969-07-07-a-i0102 FONDATEUR DU BAUHAUS ET PÈRE DE L'ESTHÉTIQUE INDUSTRIELLE Le grand architecte Walter Gropius est mort\n",
      "1969-07-07 GDL-1969-07-07-a-i0006 None\n",
      "1969-07-07 GDL-1969-07-07-a-i0015 L'UNES a un nouveau président\n",
      "1969-07-07 GDL-1969-07-07-a-i0029 EN BREF\n",
      "1969-07-07 GDL-1969-07-07-a-i0040 Suisse - Italie COOPÉRATION INDISPENSABLE\n",
      "1969-07-07 GDL-1969-07-07-a-i0046 None\n",
      "1969-07-07 GDL-1969-07-07-a-i0059 Mots croisés pai lo\n",
      "1969-07-07 GDL-1969-07-07-a-i0073 L'Orchestre de Ribaupierre sous la baguette d'Eric Bauer\n",
      "1969-07-07 GDL-1969-07-07-a-i0094 DERNIÈRE HEURE Accord entre Lagos et le CICR\n",
      "1969-07-07 GDL-1969-07-07-a-i0103 Prudence du Kremlin\n",
      "1969-07-07 GDL-1969-07-07-a-i0007 None\n",
      "1969-07-07 GDL-1969-07-07-a-i0016 £ - SEPT JEUNES SUISSES VICTIMES D'UN ACCIDENT PRÈS D'ALÈS (GARD) Cinq morts, deux blessés ••'^%^v- : y -'t^•'.'.y'^^^\"\n",
      "1969-07-07 GDL-1969-07-07-a-i0030 None\n",
      "1969-07-07 GDL-1969-07-07-a-i0047 None\n",
      "1969-07-07 GDL-1969-07-07-a-i0060 • Le temps\n",
      "1969-07-07 GDL-1969-07-07-a-i0074 Vers un centre de loisirs à Saint-Légier\n",
      "1969-07-07 GDL-1969-07-07-a-i0095 625 . 819\n",
      "1969-07-07 GDL-1969-07-07-a-i0104 Des serpents et des rats\n",
      "1969-07-07 GDL-1969-07-07-a-i0008 Le socialisme bicéphale\n",
      "1969-07-07 GDL-1969-07-07-a-i0017 None\n",
      "1969-07-07 GDL-1969-07-07-a-i0031 Au CHIO d'Aix-la-Chapelle DOMINATION ALLEMANDE\n",
      "1969-07-07 GDL-1969-07-07-a-i0048 None\n",
      "1969-07-07 GDL-1969-07-07-a-i0061 # Urgences\n",
      "1969-07-07 GDL-1969-07-07-a-i0075 La foudre sur le viaduc de la Paudèze\n",
      "1969-07-07 GDL-1969-07-07-a-i0096 None\n",
      "1969-07-07 GDL-1969-07-07-a-i0105 EN BREF\n",
      "1969-07-07 GDL-1969-07-07-a-i0018 TIRAGE A LOECHE-LES-BAINS D E LA LOTERIE ROMAND E\n",
      "1969-07-07 GDL-1969-07-07-a-i0032 NATATION : RECORD SUISSE BATTU\n",
      "1969-07-07 GDL-1969-07-07-a-i0049 None\n",
      "1969-07-07 GDL-1969-07-07-a-i0062 None\n",
      "1969-07-07 GDL-1969-07-07-a-i0076 None\n",
      "1969-07-07 GDL-1969-07-07-a-i0097 Genève : à la Conférence du désarmement LA FRANCE ABSENTELA MONGOLIE EXTÉRIEURE PRÉSENTE\n",
      "1969-07-07 GDL-1969-07-07-a-i0106 None\n",
      "1969-07-07 GDL-1969-07-07-a-i0019 None\n",
      "1969-07-07 GDL-1969-07-07-a-i0033 None\n",
      "1969-07-07 GDL-1969-07-07-a-i0050 None\n",
      "1969-07-07 GDL-1969-07-07-a-i0063 None\n",
      "1969-07-07 GDL-1969-07-07-a-i0077 None\n",
      "1969-07-07 GDL-1969-07-07-a-i0020 None\n",
      "1969-07-07 GDL-1969-07-07-a-i0034 None\n",
      "1969-07-07 GDL-1969-07-07-a-i0051 None\n",
      "1969-07-07 GDL-1969-07-07-a-i0064 PULLY 90 NOUVEAUX OFFICIERS\n",
      "1969-07-07 GDL-1969-07-07-a-i0078 None\n",
      "1969-07-07 GDL-1969-07-07-a-i0021 None\n",
      "1969-07-07 GDL-1969-07-07-a-i0052 None\n",
      "1969-07-07 GDL-1969-07-07-a-i0065 Vevey : protéger la place du Marché\n",
      "1969-07-07 GDL-1969-07-07-a-i0079 None\n",
      "1969-07-07 GDL-1969-07-07-a-i0022 None\n",
      "1969-07-07 GDL-1969-07-07-a-i0053 None\n",
      "1969-07-07 GDL-1969-07-07-a-i0066 None\n",
      "1969-07-07 GDL-1969-07-07-a-i0080 None\n",
      "1969-07-07 GDL-1969-07-07-a-i0023 None\n",
      "1969-07-07 GDL-1969-07-07-a-i0067 • Expositions\n",
      "1969-07-07 GDL-1969-07-07-a-i0081 None\n",
      "1969-07-07 GDL-1969-07-07-a-i0082 None\n"
     ]
    }
   ],
   "source": [
    "for archive in os.listdir(input_dir):\n",
    "    \n",
    "    # take only the transformed archives\n",
    "    if \"reduced\" in archive:\n",
    "        \n",
    "        # open the archive\n",
    "        f = BZ2File(os.path.join(input_dir, archive), 'r')\n",
    "        \n",
    "        # get the list of articles it contains (= a json object on each line)\n",
    "        articles = list(read_jsonlines(f))\n",
    "        \n",
    "        # load the first 100 articles as json and access their attributes\n",
    "        for a in articles[:100]:\n",
    "            \n",
    "            # decode the json string into an object (dict)\n",
    "            json_article = json.loads(a)\n",
    "            print(\n",
    "                json_article[\"date\"],\n",
    "                json_article[\"id\"],\n",
    "                json_article[\"title\"]\n",
    "            )"
   ]
  },
  {
   "cell_type": "markdown",
   "metadata": {},
   "source": [
    "### Reading from s3\n",
    "\n",
    "It's possible to read the data directly from S3.\n",
    "\n",
    "We set up a public bucket (~ folder) with some sample data that you can access without need for authentication. "
   ]
  },
  {
   "cell_type": "code",
   "execution_count": 29,
   "metadata": {},
   "outputs": [
    {
     "ename": "ModuleNotFoundError",
     "evalue": "No module named 'dask'",
     "output_type": "error",
     "traceback": [
      "\u001b[0;31m---------------------------------------------------------------------------\u001b[0m",
      "\u001b[0;31mModuleNotFoundError\u001b[0m                       Traceback (most recent call last)",
      "\u001b[0;32m<ipython-input-29-3a4bab755f23>\u001b[0m in \u001b[0;36m<module>\u001b[0;34m\u001b[0m\n\u001b[0;32m----> 1\u001b[0;31m \u001b[0;32mimport\u001b[0m \u001b[0mdask\u001b[0m\u001b[0;34m.\u001b[0m\u001b[0mbag\u001b[0m \u001b[0;32mas\u001b[0m \u001b[0mdb\u001b[0m\u001b[0;34m\u001b[0m\u001b[0;34m\u001b[0m\u001b[0m\n\u001b[0m\u001b[1;32m      2\u001b[0m \u001b[0;32mimport\u001b[0m \u001b[0mjson\u001b[0m\u001b[0;34m\u001b[0m\u001b[0;34m\u001b[0m\u001b[0m\n",
      "\u001b[0;31mModuleNotFoundError\u001b[0m: No module named 'dask'"
     ]
    }
   ],
   "source": [
    "import dask.bag as db\n",
    "import json"
   ]
  },
  {
   "cell_type": "code",
   "execution_count": 14,
   "metadata": {},
   "outputs": [
    {
     "ename": "NameError",
     "evalue": "name 'db' is not defined",
     "output_type": "error",
     "traceback": [
      "\u001b[0;31m---------------------------------------------------------------------------\u001b[0m",
      "\u001b[0;31mNameError\u001b[0m                                 Traceback (most recent call last)",
      "\u001b[0;32m<ipython-input-14-e9f3e069d9d7>\u001b[0m in \u001b[0;36m<module>\u001b[0;34m\u001b[0m\n\u001b[1;32m      4\u001b[0m }\n\u001b[1;32m      5\u001b[0m \u001b[0;34m\u001b[0m\u001b[0m\n\u001b[0;32m----> 6\u001b[0;31m ci_bag = db.read_text(\n\u001b[0m\u001b[1;32m      7\u001b[0m     \u001b[0;34m's3://impresso-public/sample-rebuilt-teaching/*bz2'\u001b[0m\u001b[0;34m,\u001b[0m\u001b[0;34m\u001b[0m\u001b[0;34m\u001b[0m\u001b[0m\n\u001b[1;32m      8\u001b[0m     \u001b[0mstorage_options\u001b[0m\u001b[0;34m=\u001b[0m\u001b[0m_storage_options\u001b[0m\u001b[0;34m\u001b[0m\u001b[0;34m\u001b[0m\u001b[0m\n",
      "\u001b[0;31mNameError\u001b[0m: name 'db' is not defined"
     ]
    }
   ],
   "source": [
    "_storage_options={\n",
    "    'client_kwargs': {'endpoint_url':'https://os.zhdk.cloud.switch.ch'},\n",
    "    'anon':True\n",
    "}\n",
    "\n",
    "ci_bag = db.read_text(\n",
    "    's3://impresso-public/sample-rebuilt-teaching/*bz2',\n",
    "    storage_options=_storage_options\n",
    ").map(json.loads)"
   ]
  },
  {
   "cell_type": "code",
   "execution_count": 15,
   "metadata": {},
   "outputs": [
    {
     "ename": "NameError",
     "evalue": "name 'ci_bag' is not defined",
     "output_type": "error",
     "traceback": [
      "\u001b[0;31m---------------------------------------------------------------------------\u001b[0m",
      "\u001b[0;31mNameError\u001b[0m                                 Traceback (most recent call last)",
      "\u001b[0;32m<timed eval>\u001b[0m in \u001b[0;36m<module>\u001b[0;34m\u001b[0m\n",
      "\u001b[0;31mNameError\u001b[0m: name 'ci_bag' is not defined"
     ]
    }
   ],
   "source": [
    "%%time\n",
    "ci_bag.count().compute()"
   ]
  },
  {
   "cell_type": "code",
   "execution_count": 16,
   "metadata": {},
   "outputs": [
    {
     "ename": "NameError",
     "evalue": "name 'ci_bag' is not defined",
     "output_type": "error",
     "traceback": [
      "\u001b[0;31m---------------------------------------------------------------------------\u001b[0m",
      "\u001b[0;31mNameError\u001b[0m                                 Traceback (most recent call last)",
      "\u001b[0;32m<ipython-input-16-509505f6a703>\u001b[0m in \u001b[0;36m<module>\u001b[0;34m\u001b[0m\n\u001b[0;32m----> 1\u001b[0;31m \u001b[0mci_bag\u001b[0m\u001b[0;34m.\u001b[0m\u001b[0mtake\u001b[0m\u001b[0;34m(\u001b[0m\u001b[0;36m1\u001b[0m\u001b[0;34m)\u001b[0m\u001b[0;34m\u001b[0m\u001b[0;34m\u001b[0m\u001b[0m\n\u001b[0m",
      "\u001b[0;31mNameError\u001b[0m: name 'ci_bag' is not defined"
     ]
    }
   ],
   "source": [
    "ci_bag.take(1)"
   ]
  },
  {
   "cell_type": "code",
   "execution_count": 17,
   "metadata": {},
   "outputs": [
    {
     "ename": "NameError",
     "evalue": "name 'ci_bag' is not defined",
     "output_type": "error",
     "traceback": [
      "\u001b[0;31m---------------------------------------------------------------------------\u001b[0m",
      "\u001b[0;31mNameError\u001b[0m                                 Traceback (most recent call last)",
      "\u001b[0;32m<timed eval>\u001b[0m in \u001b[0;36m<module>\u001b[0;34m\u001b[0m\n",
      "\u001b[0;31mNameError\u001b[0m: name 'ci_bag' is not defined"
     ]
    }
   ],
   "source": [
    "%%time\n",
    "ci_bag.filter(lambda ci: 'ft' in ci).map(lambda ci: len(ci['ft'])).sum().compute()"
   ]
  },
  {
   "cell_type": "markdown",
   "metadata": {},
   "source": [
    "### using dask and map\n",
    "see http://dask.pydata.org/en/latest/docs.html "
   ]
  },
  {
   "cell_type": "code",
   "execution_count": 34,
   "metadata": {},
   "outputs": [],
   "source": [
    "# make sure of having these libraries in your environment ('conda install' / or 'pip install')\n",
    "from dask.diagnostics import ProgressBar\n",
    "from dask.distributed import Client, progress\n",
    "import dask.bag as db"
   ]
  },
  {
   "cell_type": "markdown",
   "metadata": {},
   "source": [
    "#### Helper functions"
   ]
  },
  {
   "cell_type": "code",
   "execution_count": 35,
   "metadata": {},
   "outputs": [],
   "source": [
    "def get_archives(path):\n",
    "    archives = []\n",
    "    for archive in os.listdir(path):\n",
    "        if \"reduced\" in archive:\n",
    "            archives.append(os.path.join(input_dir, archive))\n",
    "    return archives"
   ]
  },
  {
   "cell_type": "code",
   "execution_count": 36,
   "metadata": {},
   "outputs": [],
   "source": [
    "def get_articles(archive_file):\n",
    "    articles = []\n",
    "    # open the archive\n",
    "    f = BZ2File(archive_file, 'r')\n",
    "    # get the list of articles it contains (= a json object on each line)\n",
    "    lines = list(read_jsonlines(f))\n",
    "    # load the articles as json and access their attributes\n",
    "    for a in lines:\n",
    "        articles.append(json.loads(a))\n",
    "    return articles"
   ]
  },
  {
   "cell_type": "markdown",
   "metadata": {},
   "source": [
    "#### Read and filter articles in parallel"
   ]
  },
  {
   "cell_type": "code",
   "execution_count": 37,
   "metadata": {},
   "outputs": [],
   "source": [
    "# fetch only \"reduced\" bz2 files\n",
    "archives = get_archives(input_dir)"
   ]
  },
  {
   "cell_type": "code",
   "execution_count": 38,
   "metadata": {},
   "outputs": [
    {
     "data": {
      "text/plain": [
       "['data/GDL-1969-reduced.jsonl.bz2']"
      ]
     },
     "execution_count": 38,
     "metadata": {},
     "output_type": "execute_result"
    }
   ],
   "source": [
    "archives"
   ]
  },
  {
   "cell_type": "code",
   "execution_count": 39,
   "metadata": {},
   "outputs": [],
   "source": [
    "bag_archives = db.from_sequence(archives)"
   ]
  },
  {
   "cell_type": "code",
   "execution_count": 40,
   "metadata": {},
   "outputs": [],
   "source": [
    "bag_articles = bag_archives.map(get_articles)\\\n",
    "                        .flatten()\\\n",
    "                        .filter(lambda ar: ar['fulltext'] != '')\\\n",
    "                        .repartition(npartitions=100)"
   ]
  },
  {
   "cell_type": "code",
   "execution_count": 41,
   "metadata": {},
   "outputs": [
    {
     "name": "stdout",
     "output_type": "stream",
     "text": [
      "[########################################] | 100% Completed |  3min 29.0s\n"
     ]
    }
   ],
   "source": [
    "with ProgressBar():\n",
    "    bag_articles = bag_articles.persist()"
   ]
  },
  {
   "cell_type": "code",
   "execution_count": 42,
   "metadata": {},
   "outputs": [
    {
     "data": {
      "text/plain": [
       "({'id': 'GDL-1969-07-07-a-i0001',\n",
       "  'type': 'ar',\n",
       "  'date': '1969-07-07',\n",
       "  'title': \"Privée de gouvernement l'Italie est inquiète\",\n",
       "  'fulltext': \"Privée de gouvernement l'Italie est inquiète APRES LA DÉMISSION DU CABINET DE M. MARIANO RUMOR Depuis 18 mois, le pays est traversé d'une vague de désordres et de mécontentement Le Gouvernement Rumor avait été formé avec la plus grande difficulté en décembre dernier Avec l'éclatement du parti socialiste, la création d'une majorité est des plus hypothétiques ROME, 6 juillet. — Six mois après avoir été formé, le Gouvernement de centre-gauche de M. Mariano Rumor a démissionné samedi, faute de pouvoir compter maintenant sur une majorité cohérente à la suite de la scission intervenue au sein du parti socialiste. La démission de M. Rumor met fin au 29 Gouvernement italien de l'après-guerre et plonge le pays dans l'incertitude. La crise s'annonce grave, car elle intervient après six mois d'agitation estudiantine, syndicale et sociale. M. Mariano Rumor, président du Conseil italien, a remis samedi soir la démission de son gouvernement au président Saragat. Cette décision fait suite à une scission du Parti socialiste italien représenté au sein du gouvernement qui groupait également des démocrates-chrétiens et des républicains. D'après un communiqué publié par la présidence de la République, M. Saragat a demandé au gouvernement d'assurer l'intérim. Le communiqué précise que M. Saragat ne commencera ses consultations que jeudi.Après avoir fait connaître sa déci-Les gagnants en cas d'élections anticipées Enjre ces deux extrémités un compromis est toujours possible. M. Rumor ou un autre dirigeant de la démocratie chrétienne, pourrait être mettre sur pied une coalition viable en retournant à la vieille alliance avec les libéraux, les républicains et l'aile droite du parti socialiste, celle-là même qui a été à l'origine de la scission en refusant de suivre l'aile gauche dans son désir de rapprochement avec les communistes. Il est possible encore que les politiciens italiens, fatigués et désireux de prendre un répit d'été avant de faire face de nouveau aux problèmes intérieurs à la rentrée, acceptent momentanément la présence d'un gouformaient une coalition avec les désion au président Saragat, à la suite d'une réunion d'urgence du Cabinet, M. Rumor s'est vu confier l'expédition des affaires courantes, en attendant que le président procède à des consultations àpartir de jeudi. En cas d'échec le président pourrait dissoudre le Parlement et convoquer les électeurs pour désigner de nouveaux députés. Les élections générales doivent avoir lieu dans les 70 jours suivant la dissolution. Dans l'opinion publique, déconcertée par l'apparition soudaine de ce vide politique, toutes les hypothèses sont couramment envisagées dans les conversations : l'on parle autant de la participation possible des communistes au gouvernement que de la lité d'un coup de force à droite, tant le souvenir de l'affaire de la « Sifar », l'agence de renseignements italienne, est demeuré vif. En 1964 certains hauts responsables de l'agence avaient jeté les bases d'un plan de coup d'Etat militaire à la grecque pour prévenir un danger communiste. vernement démocrate-chrétien minoritaire... Toutefois, en cas d'élections anticipées — elles devaient normalement avoir lieu en 1972 — il semble que le Parti communiste italien doive y gagner encore dans sa représentation au Parlement, de même que les crates-chrétiens, et ce aux dépens Une fois de plus des socialistes, comme en 1968. Les socialistes qui depuis 1963 mocrates-chrétiens sont de nouveau à la recherche d'une orientation. La fusion, l'an passé, des deux tendances du parti socialiste n'a pas réussi à aplanir les difficultés, notamment en ce qui concerne les relations avec le parti communiste. (Ap-Afp) \"},)"
      ]
     },
     "execution_count": 42,
     "metadata": {},
     "output_type": "execute_result"
    }
   ],
   "source": [
    "bag_articles.take(1, npartitions=10)"
   ]
  },
  {
   "cell_type": "code",
   "execution_count": 43,
   "metadata": {},
   "outputs": [
    {
     "data": {
      "text/plain": [
       "38510"
      ]
     },
     "execution_count": 43,
     "metadata": {},
     "output_type": "execute_result"
    }
   ],
   "source": [
    "bag_articles.count().compute()"
   ]
  },
  {
   "cell_type": "code",
   "execution_count": 44,
   "metadata": {},
   "outputs": [],
   "source": [
    "articles = bag_articles.compute()"
   ]
  },
  {
   "cell_type": "code",
   "execution_count": 45,
   "metadata": {},
   "outputs": [
    {
     "data": {
      "text/plain": [
       "38510"
      ]
     },
     "execution_count": 45,
     "metadata": {},
     "output_type": "execute_result"
    }
   ],
   "source": [
    "len(articles)"
   ]
  },
  {
   "cell_type": "markdown",
   "metadata": {},
   "source": [
    "#### Compute total number of tokens (parallel)"
   ]
  },
  {
   "cell_type": "code",
   "execution_count": 19,
   "metadata": {},
   "outputs": [],
   "source": [
    "n_tokens = bag_articles.filter(lambda i: i['fulltext'] is not None).map(lambda ar: len(ar['fulltext'].split()))"
   ]
  },
  {
   "cell_type": "code",
   "execution_count": 20,
   "metadata": {},
   "outputs": [],
   "source": [
    "total_tokens = n_tokens.sum().compute()"
   ]
  },
  {
   "cell_type": "code",
   "execution_count": 21,
   "metadata": {},
   "outputs": [
    {
     "data": {
      "text/plain": [
       "'26,088,321'"
      ]
     },
     "execution_count": 21,
     "metadata": {},
     "output_type": "execute_result"
    }
   ],
   "source": [
    "\"{:,}\".format(total_tokens)"
   ]
  }
 ],
 "metadata": {
  "kernelspec": {
   "display_name": "Python 3",
   "language": "python",
   "name": "python3"
  },
  "language_info": {
   "codemirror_mode": {
    "name": "ipython",
    "version": 3
   },
   "file_extension": ".py",
   "mimetype": "text/x-python",
   "name": "python",
   "nbconvert_exporter": "python",
   "pygments_lexer": "ipython3",
   "version": "3.7.2"
  },
  "toc": {
   "base_numbering": 1,
   "nav_menu": {
    "height": "84px",
    "width": "252px"
   },
   "number_sections": true,
   "sideBar": true,
   "skip_h1_title": false,
   "title_cell": "Table of Contents",
   "title_sidebar": "Contents",
   "toc_cell": false,
   "toc_position": {},
   "toc_section_display": "block",
   "toc_window_display": false
  }
 },
 "nbformat": 4,
 "nbformat_minor": 4
}

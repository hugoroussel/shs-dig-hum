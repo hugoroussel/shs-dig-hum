{
 "cells": [
  {
   "cell_type": "markdown",
   "metadata": {},
   "source": [
    "# Imports"
   ]
  },
  {
   "cell_type": "code",
   "execution_count": 1,
   "metadata": {},
   "outputs": [],
   "source": [
    "import json\n",
    "import os\n",
    "import bz2\n",
    "import io\n",
    "from bz2 import BZ2File\n",
    "import re\n",
    "import pandas as pd\n",
    "import numpy as np\n",
    "import matplotlib.pyplot as plt\n",
    "from datetime import datetime\n",
    "from datetime import timedelta\n",
    "\n",
    "import seaborn as sns\n",
    "sns.set_context('paper')\n",
    "sns.set_style(\"white\")\n",
    "sns.set(rc = {'figure.figsize':(12,9)})\n",
    "\n",
    "import warnings\n",
    "warnings.filterwarnings(\"ignore\")\n",
    "pd.options.mode.chained_assignment = None  # default='warn', Mutes warnings when copying a slice from a DataFrame.\n"
   ]
  },
  {
   "cell_type": "markdown",
   "metadata": {},
   "source": [
    "# Load dataset"
   ]
  },
  {
   "cell_type": "code",
   "execution_count": null,
   "metadata": {},
   "outputs": [],
   "source": [
    "df_cleaned = pd.read_json('cleaned.json.bz2', compression = 'bz2')\n",
    "df_cleaned['journal'] = df_cleaned['journal'].astype('category')\n",
    "df_cleaned.head()"
   ]
  },
  {
   "cell_type": "code",
   "execution_count": null,
   "metadata": {},
   "outputs": [],
   "source": [
    "df_cleaned = df_cleaned.drop(columns = 'id')"
   ]
  },
  {
   "cell_type": "code",
   "execution_count": null,
   "metadata": {},
   "outputs": [],
   "source": [
    "df_cleaned.index = np.arange(len(df_cleaned))"
   ]
  },
  {
   "cell_type": "markdown",
   "metadata": {},
   "source": [
    "## Data cleaning\n"
   ]
  },
  {
   "cell_type": "code",
   "execution_count": null,
   "metadata": {},
   "outputs": [],
   "source": [
    "def keywords_count(df, keywords):\n",
    "    \"\"\" Select text that contains certain keywords and count the latter \n",
    "    \n",
    "    Inputs:\n",
    "        df(pandas DataFrame): contains all articles in the 'text' column\n",
    "        keywords(list<str>): list of keywords to search\n",
    "        \n",
    "    Output:\n",
    "        counts(list<list<int>>): count of all keywords in all articles\n",
    "    \"\"\"\n",
    "    \n",
    "    counts, k = [], []\n",
    "    \n",
    "    for keyword in keywords:\n",
    "        k.append(keyword.lower())\n",
    "    \n",
    "    for ind, row in df.iterrows():\n",
    "        \n",
    "        counts_ = []\n",
    "        for k_ in k:\n",
    "            counts_.append(len(re.findall(k_, row['text'].lower())))\n",
    "        \n",
    "        counts.append(counts_)\n",
    "                \n",
    "    return counts"
   ]
  },
  {
   "cell_type": "code",
   "execution_count": null,
   "metadata": {},
   "outputs": [],
   "source": [
    "nuclear_keywords = ['nucléaire',\n",
    "                    'centrale nucléaire',\n",
    "                    'lucens',\n",
    "                    'uranium',\n",
    "                    'fission',\n",
    "                    'atome',\n",
    "                    'Beznau',\n",
    "                    'Gösgen',\n",
    "                    'Leibstadt',\n",
    "                    'Mühleberg',\n",
    "                    'réacteurs', \n",
    "                    'déchets nucléaires',\n",
    "                    'accident nucléaire'\n",
    "                    ]"
   ]
  },
  {
   "cell_type": "code",
   "execution_count": null,
   "metadata": {},
   "outputs": [],
   "source": [
    "counts_garbage = keywords_count(df_cleaned, nuclear_keywords)\n",
    "counts_garbage = np.asarray(counts_garbage).T"
   ]
  },
  {
   "cell_type": "code",
   "execution_count": null,
   "metadata": {},
   "outputs": [],
   "source": [
    "for i in range(len(nuclear_keywords)):\n",
    "    df_cleaned['keyword_' + nuclear_keywords[i]] = counts_garbage[i]"
   ]
  },
  {
   "cell_type": "code",
   "execution_count": null,
   "metadata": {},
   "outputs": [],
   "source": [
    "for i in range (len(nuclear_keywords)):\n",
    "    df_cleaned = df_cleaned[df_cleaned['keyword_' + nuclear_keywords[i]] == 0]"
   ]
  },
  {
   "cell_type": "code",
   "execution_count": null,
   "metadata": {},
   "outputs": [],
   "source": [
    "len(df_cleaned)"
   ]
  },
  {
   "cell_type": "code",
   "execution_count": null,
   "metadata": {},
   "outputs": [],
   "source": [
    "counts = keywords_count(df_cleaned, nuclear_keywords)\n",
    "counts = np.asarray(counts).T"
   ]
  },
  {
   "cell_type": "code",
   "execution_count": null,
   "metadata": {},
   "outputs": [],
   "source": [
    "for i in range(len(nuclear_keywords)):\n",
    "    df_cleaned['keyword_' + nuclear_keywords[i]] = counts[i]"
   ]
  },
  {
   "cell_type": "code",
   "execution_count": null,
   "metadata": {},
   "outputs": [],
   "source": [
    "df_corpus = df_cleaned\n",
    "len(df_corpus)"
   ]
  },
  {
   "cell_type": "markdown",
   "metadata": {},
   "source": [
    "# Export for iramuteq"
   ]
  },
  {
   "cell_type": "code",
   "execution_count": null,
   "metadata": {},
   "outputs": [],
   "source": [
    "df_corpus.head()"
   ]
  },
  {
   "cell_type": "code",
   "execution_count": null,
   "metadata": {},
   "outputs": [],
   "source": [
    "def formate_text(df):\n",
    "    \n",
    "    text = ''\n",
    "    for row in df.iterrows():\n",
    "        text += '**** *' + row[1][0] + ' *' + \\\n",
    "            str(row[1][1])[:10] + ' *' + str(row[1][2]) + ' *' + \\\n",
    "            str(row[1][5]) + '\\n' + str(row[1][4]) + '\\n'\n",
    "        \n",
    "    return text"
   ]
  },
  {
   "cell_type": "code",
   "execution_count": null,
   "metadata": {},
   "outputs": [],
   "source": [
    "def iramuteq_export(df, filename):\n",
    "    \n",
    "    text = formate_text(df)\n",
    "    file = open(filename,'w') \n",
    "    file.write(text)\n",
    "    file.close()\n",
    "    \n",
    "    return True"
   ]
  },
  {
   "cell_type": "code",
   "execution_count": null,
   "metadata": {},
   "outputs": [],
   "source": [
    "iramuteq_export(df_corpus, 'corpus.txt')"
   ]
  }
 ],
 "metadata": {
  "kernelspec": {
   "display_name": "Python 3",
   "language": "python",
   "name": "python3"
  },
  "language_info": {
   "codemirror_mode": {
    "name": "ipython",
    "version": 3
   },
   "file_extension": ".py",
   "mimetype": "text/x-python",
   "name": "python",
   "nbconvert_exporter": "python",
   "pygments_lexer": "ipython3",
   "version": "3.7.2"
  }
 },
 "nbformat": 4,
 "nbformat_minor": 4
}

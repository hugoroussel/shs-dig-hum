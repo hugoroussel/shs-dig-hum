{
 "cells": [
  {
   "cell_type": "code",
   "execution_count": 1,
   "metadata": {},
   "outputs": [],
   "source": [
    "import json\n",
    "import os\n",
    "import bz2\n",
    "import io\n",
    "from bz2 import BZ2File\n",
    "import pandas as pd\n",
    "import numpy as np\n",
    "import re\n",
    "from utils import *\n",
    "\n",
    "pd.set_option('display.max_rows', 500)\n",
    "pd.set_option('display.max_columns', 500)\n",
    "pd.set_option('display.width', 1000)\n",
    "pd.set_option('display.max_colwidth', 100)"
   ]
  },
  {
   "cell_type": "code",
   "execution_count": 2,
   "metadata": {},
   "outputs": [],
   "source": [
    "files_dir = \"../data/impresso-data\"\n",
    "archives = os.listdir(files_dir)\n",
    "date = \"1990\""
   ]
  },
  {
   "cell_type": "markdown",
   "metadata": {},
   "source": [
    "* Extract interesting archives"
   ]
  },
  {
   "cell_type": "code",
   "execution_count": 3,
   "metadata": {},
   "outputs": [],
   "source": [
    "regex = '(.*1989.*)|(.*198[0-1].*)'\n",
    "gdl_ = extract_particular_files(archives, regex, 'GDL')      \n",
    "jdg_ = extract_particular_files(archives, regex, 'JDG') "
   ]
  },
  {
   "cell_type": "markdown",
   "metadata": {},
   "source": [
    "* Extract content  and preprocessing"
   ]
  },
  {
   "cell_type": "code",
   "execution_count": 4,
   "metadata": {},
   "outputs": [
    {
     "name": "stdout",
     "output_type": "stream",
     "text": [
      "GDL-1980.jsonl.bz2 : 49639 articles à extraire\n",
      "GDL-1981.jsonl.bz2 : 55490 articles à extraire\n",
      "GDL-1989.jsonl.bz2 : 69464 articles à extraire\n",
      "JDG-1980.jsonl.bz2 : 49477 articles à extraire\n",
      "JDG-1981.jsonl.bz2 : 52220 articles à extraire\n",
      "JDG-1989.jsonl.bz2 : 71376 articles à extraire\n"
     ]
    },
    {
     "name": "stderr",
     "output_type": "stream",
     "text": [
      "/opt/anaconda3/lib/python3.7/site-packages/pandas/core/generic.py:5303: SettingWithCopyWarning: \n",
      "A value is trying to be set on a copy of a slice from a DataFrame.\n",
      "Try using .loc[row_indexer,col_indexer] = value instead\n",
      "\n",
      "See the caveats in the documentation: https://pandas.pydata.org/pandas-docs/stable/user_guide/indexing.html#returning-a-view-versus-a-copy\n",
      "  self[name] = value\n"
     ]
    },
    {
     "data": {
      "text/html": [
       "<div>\n",
       "<style scoped>\n",
       "    .dataframe tbody tr th:only-of-type {\n",
       "        vertical-align: middle;\n",
       "    }\n",
       "\n",
       "    .dataframe tbody tr th {\n",
       "        vertical-align: top;\n",
       "    }\n",
       "\n",
       "    .dataframe thead th {\n",
       "        text-align: right;\n",
       "    }\n",
       "</style>\n",
       "<table border=\"1\" class=\"dataframe\">\n",
       "  <thead>\n",
       "    <tr style=\"text-align: right;\">\n",
       "      <th></th>\n",
       "      <th>mag</th>\n",
       "      <th>date</th>\n",
       "      <th>page</th>\n",
       "      <th>ppage</th>\n",
       "      <th>text</th>\n",
       "      <th>length</th>\n",
       "    </tr>\n",
       "  </thead>\n",
       "  <tbody>\n",
       "    <tr>\n",
       "      <th>0</th>\n",
       "      <td>GDL</td>\n",
       "      <td>1980-10-28</td>\n",
       "      <td>1</td>\n",
       "      <td>NaN</td>\n",
       "      <td>PRESIDENTIELLES FRANÇAISES La saison des trouble-fête Gaie, amusante, presque primesautière : vo...</td>\n",
       "      <td>3556</td>\n",
       "    </tr>\n",
       "    <tr>\n",
       "      <th>1</th>\n",
       "      <td>GDL</td>\n",
       "      <td>1980-10-28</td>\n",
       "      <td>2</td>\n",
       "      <td>NaN</td>\n",
       "      <td>HhPâfrP Les spectacles de la semaine Comme au plein de chaque saison, vient le moment des choix ...</td>\n",
       "      <td>3749</td>\n",
       "    </tr>\n",
       "    <tr>\n",
       "      <th>2</th>\n",
       "      <td>GDL</td>\n",
       "      <td>1980-10-28</td>\n",
       "      <td>3</td>\n",
       "      <td>NaN</td>\n",
       "      <td>Université de Lausanne : les nouveaux docteurs honoris causa Mme Helena Raskova Fille d'un père ...</td>\n",
       "      <td>5953</td>\n",
       "    </tr>\n",
       "    <tr>\n",
       "      <th>3</th>\n",
       "      <td>GDL</td>\n",
       "      <td>1980-10-28</td>\n",
       "      <td>4</td>\n",
       "      <td>NaN</td>\n",
       "      <td>L'Afrique du Sud a-t-elle changé dernièrement ? Cet exposé vous l'apprendra COMMUNIQUÉ PUBLICITA...</td>\n",
       "      <td>8212</td>\n",
       "    </tr>\n",
       "    <tr>\n",
       "      <th>4</th>\n",
       "      <td>GDL</td>\n",
       "      <td>1980-10-28</td>\n",
       "      <td>5</td>\n",
       "      <td>NaN</td>\n",
       "      <td>Centre autonome : la réponse dans quatre mois « Levez d'abord les inculpations de manifestants e...</td>\n",
       "      <td>3820</td>\n",
       "    </tr>\n",
       "  </tbody>\n",
       "</table>\n",
       "</div>"
      ],
      "text/plain": [
       "   mag        date  page  ppage                                                                                                 text  length\n",
       "0  GDL  1980-10-28     1    NaN  PRESIDENTIELLES FRANÇAISES La saison des trouble-fête Gaie, amusante, presque primesautière : vo...    3556\n",
       "1  GDL  1980-10-28     2    NaN  HhPâfrP Les spectacles de la semaine Comme au plein de chaque saison, vient le moment des choix ...    3749\n",
       "2  GDL  1980-10-28     3    NaN  Université de Lausanne : les nouveaux docteurs honoris causa Mme Helena Raskova Fille d'un père ...    5953\n",
       "3  GDL  1980-10-28     4    NaN  L'Afrique du Sud a-t-elle changé dernièrement ? Cet exposé vous l'apprendra COMMUNIQUÉ PUBLICITA...    8212\n",
       "4  GDL  1980-10-28     5    NaN  Centre autonome : la réponse dans quatre mois « Levez d'abord les inculpations de manifestants e...    3820"
      ]
     },
     "metadata": {},
     "output_type": "display_data"
    },
    {
     "name": "stdout",
     "output_type": "stream",
     "text": [
      "Length df: 134      437\n",
      "68       371\n",
      "67       359\n",
      "210      315\n",
      "209      272\n",
      "        ... \n",
      "16718      1\n",
      "10778      1\n",
      "14872      1\n",
      "18966      1\n",
      "34545      1\n",
      "Name: length, Length: 11297, dtype: int64\n"
     ]
    },
    {
     "name": "stderr",
     "output_type": "stream",
     "text": [
      "/opt/anaconda3/lib/python3.7/site-packages/pandas/core/generic.py:5303: SettingWithCopyWarning: \n",
      "A value is trying to be set on a copy of a slice from a DataFrame.\n",
      "Try using .loc[row_indexer,col_indexer] = value instead\n",
      "\n",
      "See the caveats in the documentation: https://pandas.pydata.org/pandas-docs/stable/user_guide/indexing.html#returning-a-view-versus-a-copy\n",
      "  self[name] = value\n"
     ]
    },
    {
     "data": {
      "text/html": [
       "<div>\n",
       "<style scoped>\n",
       "    .dataframe tbody tr th:only-of-type {\n",
       "        vertical-align: middle;\n",
       "    }\n",
       "\n",
       "    .dataframe tbody tr th {\n",
       "        vertical-align: top;\n",
       "    }\n",
       "\n",
       "    .dataframe thead th {\n",
       "        text-align: right;\n",
       "    }\n",
       "</style>\n",
       "<table border=\"1\" class=\"dataframe\">\n",
       "  <thead>\n",
       "    <tr style=\"text-align: right;\">\n",
       "      <th></th>\n",
       "      <th>mag</th>\n",
       "      <th>date</th>\n",
       "      <th>page</th>\n",
       "      <th>ppage</th>\n",
       "      <th>text</th>\n",
       "      <th>length</th>\n",
       "    </tr>\n",
       "  </thead>\n",
       "  <tbody>\n",
       "    <tr>\n",
       "      <th>0</th>\n",
       "      <td>GDL</td>\n",
       "      <td>1980-10-28</td>\n",
       "      <td>1</td>\n",
       "      <td>NaN</td>\n",
       "      <td>PRESIDENTIELLES FRANÇAISES La saison des trouble-fête Gaie, amusante, presque primesautière : vo...</td>\n",
       "      <td>3556</td>\n",
       "    </tr>\n",
       "    <tr>\n",
       "      <th>1</th>\n",
       "      <td>GDL</td>\n",
       "      <td>1980-10-28</td>\n",
       "      <td>2</td>\n",
       "      <td>NaN</td>\n",
       "      <td>HhPâfrP Les spectacles de la semaine Comme au plein de chaque saison, vient le moment des choix ...</td>\n",
       "      <td>3749</td>\n",
       "    </tr>\n",
       "    <tr>\n",
       "      <th>2</th>\n",
       "      <td>GDL</td>\n",
       "      <td>1980-10-28</td>\n",
       "      <td>3</td>\n",
       "      <td>NaN</td>\n",
       "      <td>Université de Lausanne : les nouveaux docteurs honoris causa Mme Helena Raskova Fille d'un père ...</td>\n",
       "      <td>5953</td>\n",
       "    </tr>\n",
       "    <tr>\n",
       "      <th>3</th>\n",
       "      <td>GDL</td>\n",
       "      <td>1980-10-28</td>\n",
       "      <td>4</td>\n",
       "      <td>NaN</td>\n",
       "      <td>L'Afrique du Sud a-t-elle changé dernièrement ? Cet exposé vous l'apprendra COMMUNIQUÉ PUBLICITA...</td>\n",
       "      <td>8212</td>\n",
       "    </tr>\n",
       "    <tr>\n",
       "      <th>4</th>\n",
       "      <td>GDL</td>\n",
       "      <td>1980-10-28</td>\n",
       "      <td>5</td>\n",
       "      <td>NaN</td>\n",
       "      <td>Centre autonome : la réponse dans quatre mois « Levez d'abord les inculpations de manifestants e...</td>\n",
       "      <td>3820</td>\n",
       "    </tr>\n",
       "  </tbody>\n",
       "</table>\n",
       "</div>"
      ],
      "text/plain": [
       "   mag        date  page  ppage                                                                                                 text  length\n",
       "0  GDL  1980-10-28     1    NaN  PRESIDENTIELLES FRANÇAISES La saison des trouble-fête Gaie, amusante, presque primesautière : vo...    3556\n",
       "1  GDL  1980-10-28     2    NaN  HhPâfrP Les spectacles de la semaine Comme au plein de chaque saison, vient le moment des choix ...    3749\n",
       "2  GDL  1980-10-28     3    NaN  Université de Lausanne : les nouveaux docteurs honoris causa Mme Helena Raskova Fille d'un père ...    5953\n",
       "3  GDL  1980-10-28     4    NaN  L'Afrique du Sud a-t-elle changé dernièrement ? Cet exposé vous l'apprendra COMMUNIQUÉ PUBLICITA...    8212\n",
       "4  GDL  1980-10-28     5    NaN  Centre autonome : la réponse dans quatre mois « Levez d'abord les inculpations de manifestants e...    3820"
      ]
     },
     "metadata": {},
     "output_type": "display_data"
    },
    {
     "name": "stdout",
     "output_type": "stream",
     "text": [
      "Length df: 134      292\n",
      "68       256\n",
      "67       223\n",
      "210      203\n",
      "114      172\n",
      "        ... \n",
      "9252       1\n",
      "7267       1\n",
      "35364      1\n",
      "8980       1\n",
      "14321      1\n",
      "Name: length, Length: 8606, dtype: int64\n"
     ]
    },
    {
     "name": "stderr",
     "output_type": "stream",
     "text": [
      "/opt/anaconda3/lib/python3.7/site-packages/pandas/core/generic.py:5303: SettingWithCopyWarning: \n",
      "A value is trying to be set on a copy of a slice from a DataFrame.\n",
      "Try using .loc[row_indexer,col_indexer] = value instead\n",
      "\n",
      "See the caveats in the documentation: https://pandas.pydata.org/pandas-docs/stable/user_guide/indexing.html#returning-a-view-versus-a-copy\n",
      "  self[name] = value\n"
     ]
    },
    {
     "data": {
      "text/html": [
       "<div>\n",
       "<style scoped>\n",
       "    .dataframe tbody tr th:only-of-type {\n",
       "        vertical-align: middle;\n",
       "    }\n",
       "\n",
       "    .dataframe tbody tr th {\n",
       "        vertical-align: top;\n",
       "    }\n",
       "\n",
       "    .dataframe thead th {\n",
       "        text-align: right;\n",
       "    }\n",
       "</style>\n",
       "<table border=\"1\" class=\"dataframe\">\n",
       "  <thead>\n",
       "    <tr style=\"text-align: right;\">\n",
       "      <th></th>\n",
       "      <th>mag</th>\n",
       "      <th>date</th>\n",
       "      <th>page</th>\n",
       "      <th>ppage</th>\n",
       "      <th>text</th>\n",
       "      <th>length</th>\n",
       "    </tr>\n",
       "  </thead>\n",
       "  <tbody>\n",
       "    <tr>\n",
       "      <th>0</th>\n",
       "      <td>JDG</td>\n",
       "      <td>1980-10-28</td>\n",
       "      <td>1</td>\n",
       "      <td>NaN</td>\n",
       "      <td>JA No 252 MARDI 28 OCTOBRE 1980 SUISSE : 70 ct. FRANCE : 2 FF BELGIQUE : 16 FB ESPAGNE : 30 PESE...</td>\n",
       "      <td>152</td>\n",
       "    </tr>\n",
       "    <tr>\n",
       "      <th>1</th>\n",
       "      <td>JDG</td>\n",
       "      <td>1980-10-28</td>\n",
       "      <td>2</td>\n",
       "      <td>NaN</td>\n",
       "      <td>Editorial Il n'existe pas de « gentil racisme » L'éditorial de Claude Monnier intitulé « Qui est...</td>\n",
       "      <td>3250</td>\n",
       "    </tr>\n",
       "    <tr>\n",
       "      <th>2</th>\n",
       "      <td>JDG</td>\n",
       "      <td>1980-10-28</td>\n",
       "      <td>3</td>\n",
       "      <td>NaN</td>\n",
       "      <td>ZAMBIE COUp d'Etat manqué à Lusaka KErlNETH KAUNDA L saka, 27 (Reuter).-Le président Kenneth ~ d...</td>\n",
       "      <td>1895</td>\n",
       "    </tr>\n",
       "    <tr>\n",
       "      <th>3</th>\n",
       "      <td>JDG</td>\n",
       "      <td>1980-10-28</td>\n",
       "      <td>4</td>\n",
       "      <td>NaN</td>\n",
       "      <td>L'Afrique du Sud a-t-elle changé dernièrement ? Cet exposé vous l'apprendra Une réorganisation c...</td>\n",
       "      <td>8246</td>\n",
       "    </tr>\n",
       "    <tr>\n",
       "      <th>4</th>\n",
       "      <td>JDG</td>\n",
       "      <td>1980-10-28</td>\n",
       "      <td>5</td>\n",
       "      <td>NaN</td>\n",
       "      <td>Reprise de la productivité aux USA v h'ngton, 27 (AFP )'-La productivité de \\ as ml'l'des Etats-...</td>\n",
       "      <td>1385</td>\n",
       "    </tr>\n",
       "  </tbody>\n",
       "</table>\n",
       "</div>"
      ],
      "text/plain": [
       "   mag        date  page  ppage                                                                                                 text  length\n",
       "0  JDG  1980-10-28     1    NaN  JA No 252 MARDI 28 OCTOBRE 1980 SUISSE : 70 ct. FRANCE : 2 FF BELGIQUE : 16 FB ESPAGNE : 30 PESE...     152\n",
       "1  JDG  1980-10-28     2    NaN  Editorial Il n'existe pas de « gentil racisme » L'éditorial de Claude Monnier intitulé « Qui est...    3250\n",
       "2  JDG  1980-10-28     3    NaN  ZAMBIE COUp d'Etat manqué à Lusaka KErlNETH KAUNDA L saka, 27 (Reuter).-Le président Kenneth ~ d...    1895\n",
       "3  JDG  1980-10-28     4    NaN  L'Afrique du Sud a-t-elle changé dernièrement ? Cet exposé vous l'apprendra Une réorganisation c...    8246\n",
       "4  JDG  1980-10-28     5    NaN  Reprise de la productivité aux USA v h'ngton, 27 (AFP )'-La productivité de \\ as ml'l'des Etats-...    1385"
      ]
     },
     "metadata": {},
     "output_type": "display_data"
    },
    {
     "name": "stdout",
     "output_type": "stream",
     "text": [
      "Length df: 209      159\n",
      "134      145\n",
      "199      138\n",
      "67       136\n",
      "206      134\n",
      "        ... \n",
      "33364      1\n",
      "6855       1\n",
      "15171      1\n",
      "35669      1\n",
      "6934       1\n",
      "Name: length, Length: 9932, dtype: int64\n"
     ]
    }
   ],
   "source": [
    " df_all, df_gdl, df_jdg = run(gdl_, jdg_, date, files_dir)"
   ]
  },
  {
   "cell_type": "markdown",
   "metadata": {},
   "source": [
    "* Keywords filtering"
   ]
  },
  {
   "cell_type": "code",
   "execution_count": 5,
   "metadata": {},
   "outputs": [],
   "source": [
    "keywords_1990 = ['nucléaire','initiatives', 'initiative', 'centrale', 'centrales', 'atomique', 'atomiques', 'suisse', 'energie', 'votation', 'abandon', 'progressif']\n",
    "#keywords_1986 = ['nucléaire', 'centrale', 'centrales', 'atomique', 'atomiques', 'energie', 'ukraine', 'Tchernobyl', '1986', 'coeur fondu']\n",
    "\n",
    "unwanted = ['tableau hebdomadaire']#, '(\\/(\\s\\d*)*\\s)*']\n",
    "\n",
    "cleaned_files_dir = \"../data/filtered/\"\n",
    "archives = os.listdir(files_dir)"
   ]
  },
  {
   "cell_type": "code",
   "execution_count": 6,
   "metadata": {},
   "outputs": [],
   "source": [
    "#df_all = load_corpus(cleaned_files_dir + \"cleaned_all\" + date +\".json.bz2\")\n",
    "#df_gdl = load_corpus(cleaned_files_dir + \"cleaned_gdl\" + date +\".json.bz2\")\n",
    "#df_jdg = load_corpus(cleaned_files_dir + \"cleaned_jdg\" + date +\".json.bz2\")\n",
    "\n"
   ]
  },
  {
   "cell_type": "code",
   "execution_count": 7,
   "metadata": {},
   "outputs": [
    {
     "name": "stdout",
     "output_type": "stream",
     "text": [
      "===KEYWORDS===\n"
     ]
    },
    {
     "data": {
      "text/plain": [
       "'After keyword filtered: '"
      ]
     },
     "metadata": {},
     "output_type": "display_data"
    },
    {
     "data": {
      "text/plain": [
       "(52973, 19)"
      ]
     },
     "metadata": {},
     "output_type": "display_data"
    },
    {
     "name": "stdout",
     "output_type": "stream",
     "text": [
      "=====UNWANTED====\n"
     ]
    },
    {
     "data": {
      "text/plain": [
       "'After keyword filtered: '"
      ]
     },
     "metadata": {},
     "output_type": "display_data"
    },
    {
     "data": {
      "text/plain": [
       "(52973, 19)"
      ]
     },
     "metadata": {},
     "output_type": "display_data"
    }
   ],
   "source": [
    "df_all_ = keywords_filtering(df_all, keywords_1990)\n",
    "df_all_ = unwanted_filtering(df_all_, unwanted)"
   ]
  },
  {
   "cell_type": "code",
   "execution_count": 8,
   "metadata": {},
   "outputs": [
    {
     "name": "stdout",
     "output_type": "stream",
     "text": [
      "===KEYWORDS===\n"
     ]
    },
    {
     "data": {
      "text/plain": [
       "'After keyword filtered: '"
      ]
     },
     "metadata": {},
     "output_type": "display_data"
    },
    {
     "data": {
      "text/plain": [
       "(22892, 19)"
      ]
     },
     "metadata": {},
     "output_type": "display_data"
    },
    {
     "name": "stdout",
     "output_type": "stream",
     "text": [
      "=====UNWANTED====\n"
     ]
    },
    {
     "data": {
      "text/plain": [
       "'After keyword filtered: '"
      ]
     },
     "metadata": {},
     "output_type": "display_data"
    },
    {
     "data": {
      "text/plain": [
       "(22892, 19)"
      ]
     },
     "metadata": {},
     "output_type": "display_data"
    }
   ],
   "source": [
    "df_gdl_ = keywords_filtering(df_gdl, keywords_1990)\n",
    "df_gdl_ = unwanted_filtering(df_gdl_, unwanted)"
   ]
  },
  {
   "cell_type": "code",
   "execution_count": 9,
   "metadata": {},
   "outputs": [
    {
     "name": "stdout",
     "output_type": "stream",
     "text": [
      "===KEYWORDS===\n"
     ]
    },
    {
     "data": {
      "text/plain": [
       "'After keyword filtered: '"
      ]
     },
     "metadata": {},
     "output_type": "display_data"
    },
    {
     "data": {
      "text/plain": [
       "(30081, 19)"
      ]
     },
     "metadata": {},
     "output_type": "display_data"
    },
    {
     "name": "stdout",
     "output_type": "stream",
     "text": [
      "=====UNWANTED====\n"
     ]
    },
    {
     "data": {
      "text/plain": [
       "'After keyword filtered: '"
      ]
     },
     "metadata": {},
     "output_type": "display_data"
    },
    {
     "data": {
      "text/plain": [
       "(30081, 19)"
      ]
     },
     "metadata": {},
     "output_type": "display_data"
    }
   ],
   "source": [
    "df_jdg_ = keywords_filtering(df_jdg, keywords_1990)\n",
    "df_jdg_ = unwanted_filtering(df_jdg_, unwanted)"
   ]
  },
  {
   "cell_type": "markdown",
   "metadata": {},
   "source": [
    "* Export iramutek"
   ]
  },
  {
   "cell_type": "code",
   "execution_count": 10,
   "metadata": {},
   "outputs": [
    {
     "data": {
      "text/html": [
       "<div>\n",
       "<style scoped>\n",
       "    .dataframe tbody tr th:only-of-type {\n",
       "        vertical-align: middle;\n",
       "    }\n",
       "\n",
       "    .dataframe tbody tr th {\n",
       "        vertical-align: top;\n",
       "    }\n",
       "\n",
       "    .dataframe thead th {\n",
       "        text-align: right;\n",
       "    }\n",
       "</style>\n",
       "<table border=\"1\" class=\"dataframe\">\n",
       "  <thead>\n",
       "    <tr style=\"text-align: right;\">\n",
       "      <th></th>\n",
       "      <th>mag</th>\n",
       "      <th>date</th>\n",
       "      <th>page</th>\n",
       "      <th>ppage</th>\n",
       "      <th>text</th>\n",
       "      <th>length</th>\n",
       "      <th>keywords</th>\n",
       "      <th>keyword_nucléaire</th>\n",
       "      <th>keyword_initiatives</th>\n",
       "      <th>keyword_initiative</th>\n",
       "      <th>keyword_centrale</th>\n",
       "      <th>keyword_centrales</th>\n",
       "      <th>keyword_atomique</th>\n",
       "      <th>keyword_atomiques</th>\n",
       "      <th>keyword_suisse</th>\n",
       "      <th>keyword_energie</th>\n",
       "      <th>keyword_votation</th>\n",
       "      <th>keyword_abandon</th>\n",
       "      <th>keyword_progressif</th>\n",
       "    </tr>\n",
       "  </thead>\n",
       "  <tbody>\n",
       "    <tr>\n",
       "      <th>8</th>\n",
       "      <td>GDL</td>\n",
       "      <td>1980-10-28</td>\n",
       "      <td>9</td>\n",
       "      <td>NaN</td>\n",
       "      <td>\" ~? vtm ? r .-Cornet i _/ * i &gt; ii. w- &gt;. . ri- H \" ..,. |., \"v ; rl &gt;. r : j ;; ? no- no- ; q ...</td>\n",
       "      <td>764</td>\n",
       "      <td>2</td>\n",
       "      <td>0</td>\n",
       "      <td>0</td>\n",
       "      <td>0</td>\n",
       "      <td>0</td>\n",
       "      <td>0</td>\n",
       "      <td>0</td>\n",
       "      <td>0</td>\n",
       "      <td>2</td>\n",
       "      <td>0</td>\n",
       "      <td>0</td>\n",
       "      <td>0</td>\n",
       "      <td>0</td>\n",
       "    </tr>\n",
       "    <tr>\n",
       "      <th>9</th>\n",
       "      <td>GDL</td>\n",
       "      <td>1980-10-28</td>\n",
       "      <td>10</td>\n",
       "      <td>NaN</td>\n",
       "      <td>SOLVALOR 61 Fonds de placement immobilier so va 61 or Paiement du coupon N° 22 A partir du 31 oc...</td>\n",
       "      <td>960</td>\n",
       "      <td>4</td>\n",
       "      <td>0</td>\n",
       "      <td>0</td>\n",
       "      <td>0</td>\n",
       "      <td>0</td>\n",
       "      <td>0</td>\n",
       "      <td>0</td>\n",
       "      <td>0</td>\n",
       "      <td>4</td>\n",
       "      <td>0</td>\n",
       "      <td>0</td>\n",
       "      <td>0</td>\n",
       "      <td>0</td>\n",
       "    </tr>\n",
       "    <tr>\n",
       "      <th>11</th>\n",
       "      <td>GDL</td>\n",
       "      <td>1980-10-28</td>\n",
       "      <td>12</td>\n",
       "      <td>NaN</td>\n",
       "      <td>PROTECTION DE L'ENVIRONNEMENT Lacs suisses : le poisson comestible se fait rare Berne, 27 (ATS)....</td>\n",
       "      <td>2594</td>\n",
       "      <td>2</td>\n",
       "      <td>0</td>\n",
       "      <td>0</td>\n",
       "      <td>0</td>\n",
       "      <td>0</td>\n",
       "      <td>0</td>\n",
       "      <td>0</td>\n",
       "      <td>0</td>\n",
       "      <td>2</td>\n",
       "      <td>0</td>\n",
       "      <td>0</td>\n",
       "      <td>0</td>\n",
       "      <td>0</td>\n",
       "    </tr>\n",
       "    <tr>\n",
       "      <th>12</th>\n",
       "      <td>GDL</td>\n",
       "      <td>1980-10-28</td>\n",
       "      <td>13</td>\n",
       "      <td>NaN</td>\n",
       "      <td>Alcoolisme au travail : la fin d'un tabou DEUX JOURNÉES D'INFORMATION D'ÉTUDES A BÂLE (I) Il y a...</td>\n",
       "      <td>5476</td>\n",
       "      <td>3</td>\n",
       "      <td>0</td>\n",
       "      <td>0</td>\n",
       "      <td>0</td>\n",
       "      <td>0</td>\n",
       "      <td>0</td>\n",
       "      <td>0</td>\n",
       "      <td>0</td>\n",
       "      <td>3</td>\n",
       "      <td>0</td>\n",
       "      <td>0</td>\n",
       "      <td>0</td>\n",
       "      <td>0</td>\n",
       "    </tr>\n",
       "    <tr>\n",
       "      <th>15</th>\n",
       "      <td>GDL</td>\n",
       "      <td>1980-10-28</td>\n",
       "      <td>16</td>\n",
       "      <td>NaN</td>\n",
       "      <td>BOURSES SUISSE 24 4 M) 1250 460 575 1025 1010 g 200 1770 15713 308 g 265 g 1000 574 tco 160 2625...</td>\n",
       "      <td>35402</td>\n",
       "      <td>7</td>\n",
       "      <td>0</td>\n",
       "      <td>0</td>\n",
       "      <td>0</td>\n",
       "      <td>0</td>\n",
       "      <td>0</td>\n",
       "      <td>0</td>\n",
       "      <td>0</td>\n",
       "      <td>7</td>\n",
       "      <td>0</td>\n",
       "      <td>0</td>\n",
       "      <td>0</td>\n",
       "      <td>0</td>\n",
       "    </tr>\n",
       "  </tbody>\n",
       "</table>\n",
       "</div>"
      ],
      "text/plain": [
       "    mag        date  page  ppage                                                                                                 text  length  keywords  keyword_nucléaire  keyword_initiatives  keyword_initiative  keyword_centrale  keyword_centrales  keyword_atomique  keyword_atomiques  keyword_suisse  keyword_energie  keyword_votation  keyword_abandon  keyword_progressif\n",
       "8   GDL  1980-10-28     9    NaN  \" ~? vtm ? r .-Cornet i _/ * i > ii. w- >. . ri- H \" ..,. |., \"v ; rl >. r : j ;; ? no- no- ; q ...     764         2                  0                    0                   0                 0                  0                 0                  0               2                0                 0                0                   0\n",
       "9   GDL  1980-10-28    10    NaN  SOLVALOR 61 Fonds de placement immobilier so va 61 or Paiement du coupon N° 22 A partir du 31 oc...     960         4                  0                    0                   0                 0                  0                 0                  0               4                0                 0                0                   0\n",
       "11  GDL  1980-10-28    12    NaN  PROTECTION DE L'ENVIRONNEMENT Lacs suisses : le poisson comestible se fait rare Berne, 27 (ATS)....    2594         2                  0                    0                   0                 0                  0                 0                  0               2                0                 0                0                   0\n",
       "12  GDL  1980-10-28    13    NaN  Alcoolisme au travail : la fin d'un tabou DEUX JOURNÉES D'INFORMATION D'ÉTUDES A BÂLE (I) Il y a...    5476         3                  0                    0                   0                 0                  0                 0                  0               3                0                 0                0                   0\n",
       "15  GDL  1980-10-28    16    NaN  BOURSES SUISSE 24 4 M) 1250 460 575 1025 1010 g 200 1770 15713 308 g 265 g 1000 574 tco 160 2625...   35402         7                  0                    0                   0                 0                  0                 0                  0               7                0                 0                0                   0"
      ]
     },
     "metadata": {},
     "output_type": "display_data"
    },
    {
     "data": {
      "text/html": [
       "<div>\n",
       "<style scoped>\n",
       "    .dataframe tbody tr th:only-of-type {\n",
       "        vertical-align: middle;\n",
       "    }\n",
       "\n",
       "    .dataframe tbody tr th {\n",
       "        vertical-align: top;\n",
       "    }\n",
       "\n",
       "    .dataframe thead th {\n",
       "        text-align: right;\n",
       "    }\n",
       "</style>\n",
       "<table border=\"1\" class=\"dataframe\">\n",
       "  <thead>\n",
       "    <tr style=\"text-align: right;\">\n",
       "      <th></th>\n",
       "      <th>mag</th>\n",
       "      <th>date</th>\n",
       "      <th>page</th>\n",
       "      <th>ppage</th>\n",
       "      <th>text</th>\n",
       "      <th>length</th>\n",
       "      <th>keywords</th>\n",
       "      <th>keyword_nucléaire</th>\n",
       "      <th>keyword_initiatives</th>\n",
       "      <th>keyword_initiative</th>\n",
       "      <th>keyword_centrale</th>\n",
       "      <th>keyword_centrales</th>\n",
       "      <th>keyword_atomique</th>\n",
       "      <th>keyword_atomiques</th>\n",
       "      <th>keyword_suisse</th>\n",
       "      <th>keyword_energie</th>\n",
       "      <th>keyword_votation</th>\n",
       "      <th>keyword_abandon</th>\n",
       "      <th>keyword_progressif</th>\n",
       "    </tr>\n",
       "  </thead>\n",
       "  <tbody>\n",
       "    <tr>\n",
       "      <th>8</th>\n",
       "      <td>GDL</td>\n",
       "      <td>1980-10-28</td>\n",
       "      <td>9</td>\n",
       "      <td>NaN</td>\n",
       "      <td>\" ~? vtm ? r .-Cornet i _/ * i &gt; ii. w- &gt;. . ri- H \" ..,. |., \"v ; rl &gt;. r : j ;; ? no- no- ; q ...</td>\n",
       "      <td>764</td>\n",
       "      <td>2</td>\n",
       "      <td>0</td>\n",
       "      <td>0</td>\n",
       "      <td>0</td>\n",
       "      <td>0</td>\n",
       "      <td>0</td>\n",
       "      <td>0</td>\n",
       "      <td>0</td>\n",
       "      <td>2</td>\n",
       "      <td>0</td>\n",
       "      <td>0</td>\n",
       "      <td>0</td>\n",
       "      <td>0</td>\n",
       "    </tr>\n",
       "    <tr>\n",
       "      <th>9</th>\n",
       "      <td>GDL</td>\n",
       "      <td>1980-10-28</td>\n",
       "      <td>10</td>\n",
       "      <td>NaN</td>\n",
       "      <td>SOLVALOR 61 Fonds de placement immobilier so va 61 or Paiement du coupon N° 22 A partir du 31 oc...</td>\n",
       "      <td>960</td>\n",
       "      <td>4</td>\n",
       "      <td>0</td>\n",
       "      <td>0</td>\n",
       "      <td>0</td>\n",
       "      <td>0</td>\n",
       "      <td>0</td>\n",
       "      <td>0</td>\n",
       "      <td>0</td>\n",
       "      <td>4</td>\n",
       "      <td>0</td>\n",
       "      <td>0</td>\n",
       "      <td>0</td>\n",
       "      <td>0</td>\n",
       "    </tr>\n",
       "    <tr>\n",
       "      <th>11</th>\n",
       "      <td>GDL</td>\n",
       "      <td>1980-10-28</td>\n",
       "      <td>12</td>\n",
       "      <td>NaN</td>\n",
       "      <td>PROTECTION DE L'ENVIRONNEMENT Lacs suisses : le poisson comestible se fait rare Berne, 27 (ATS)....</td>\n",
       "      <td>2594</td>\n",
       "      <td>2</td>\n",
       "      <td>0</td>\n",
       "      <td>0</td>\n",
       "      <td>0</td>\n",
       "      <td>0</td>\n",
       "      <td>0</td>\n",
       "      <td>0</td>\n",
       "      <td>0</td>\n",
       "      <td>2</td>\n",
       "      <td>0</td>\n",
       "      <td>0</td>\n",
       "      <td>0</td>\n",
       "      <td>0</td>\n",
       "    </tr>\n",
       "    <tr>\n",
       "      <th>12</th>\n",
       "      <td>GDL</td>\n",
       "      <td>1980-10-28</td>\n",
       "      <td>13</td>\n",
       "      <td>NaN</td>\n",
       "      <td>Alcoolisme au travail : la fin d'un tabou DEUX JOURNÉES D'INFORMATION D'ÉTUDES A BÂLE (I) Il y a...</td>\n",
       "      <td>5476</td>\n",
       "      <td>3</td>\n",
       "      <td>0</td>\n",
       "      <td>0</td>\n",
       "      <td>0</td>\n",
       "      <td>0</td>\n",
       "      <td>0</td>\n",
       "      <td>0</td>\n",
       "      <td>0</td>\n",
       "      <td>3</td>\n",
       "      <td>0</td>\n",
       "      <td>0</td>\n",
       "      <td>0</td>\n",
       "      <td>0</td>\n",
       "    </tr>\n",
       "    <tr>\n",
       "      <th>15</th>\n",
       "      <td>GDL</td>\n",
       "      <td>1980-10-28</td>\n",
       "      <td>16</td>\n",
       "      <td>NaN</td>\n",
       "      <td>BOURSES SUISSE 24 4 M) 1250 460 575 1025 1010 g 200 1770 15713 308 g 265 g 1000 574 tco 160 2625...</td>\n",
       "      <td>35402</td>\n",
       "      <td>7</td>\n",
       "      <td>0</td>\n",
       "      <td>0</td>\n",
       "      <td>0</td>\n",
       "      <td>0</td>\n",
       "      <td>0</td>\n",
       "      <td>0</td>\n",
       "      <td>0</td>\n",
       "      <td>7</td>\n",
       "      <td>0</td>\n",
       "      <td>0</td>\n",
       "      <td>0</td>\n",
       "      <td>0</td>\n",
       "    </tr>\n",
       "  </tbody>\n",
       "</table>\n",
       "</div>"
      ],
      "text/plain": [
       "    mag        date  page  ppage                                                                                                 text  length  keywords  keyword_nucléaire  keyword_initiatives  keyword_initiative  keyword_centrale  keyword_centrales  keyword_atomique  keyword_atomiques  keyword_suisse  keyword_energie  keyword_votation  keyword_abandon  keyword_progressif\n",
       "8   GDL  1980-10-28     9    NaN  \" ~? vtm ? r .-Cornet i _/ * i > ii. w- >. . ri- H \" ..,. |., \"v ; rl >. r : j ;; ? no- no- ; q ...     764         2                  0                    0                   0                 0                  0                 0                  0               2                0                 0                0                   0\n",
       "9   GDL  1980-10-28    10    NaN  SOLVALOR 61 Fonds de placement immobilier so va 61 or Paiement du coupon N° 22 A partir du 31 oc...     960         4                  0                    0                   0                 0                  0                 0                  0               4                0                 0                0                   0\n",
       "11  GDL  1980-10-28    12    NaN  PROTECTION DE L'ENVIRONNEMENT Lacs suisses : le poisson comestible se fait rare Berne, 27 (ATS)....    2594         2                  0                    0                   0                 0                  0                 0                  0               2                0                 0                0                   0\n",
       "12  GDL  1980-10-28    13    NaN  Alcoolisme au travail : la fin d'un tabou DEUX JOURNÉES D'INFORMATION D'ÉTUDES A BÂLE (I) Il y a...    5476         3                  0                    0                   0                 0                  0                 0                  0               3                0                 0                0                   0\n",
       "15  GDL  1980-10-28    16    NaN  BOURSES SUISSE 24 4 M) 1250 460 575 1025 1010 g 200 1770 15713 308 g 265 g 1000 574 tco 160 2625...   35402         7                  0                    0                   0                 0                  0                 0                  0               7                0                 0                0                   0"
      ]
     },
     "metadata": {},
     "output_type": "display_data"
    },
    {
     "data": {
      "text/html": [
       "<div>\n",
       "<style scoped>\n",
       "    .dataframe tbody tr th:only-of-type {\n",
       "        vertical-align: middle;\n",
       "    }\n",
       "\n",
       "    .dataframe tbody tr th {\n",
       "        vertical-align: top;\n",
       "    }\n",
       "\n",
       "    .dataframe thead th {\n",
       "        text-align: right;\n",
       "    }\n",
       "</style>\n",
       "<table border=\"1\" class=\"dataframe\">\n",
       "  <thead>\n",
       "    <tr style=\"text-align: right;\">\n",
       "      <th></th>\n",
       "      <th>mag</th>\n",
       "      <th>date</th>\n",
       "      <th>page</th>\n",
       "      <th>ppage</th>\n",
       "      <th>text</th>\n",
       "      <th>length</th>\n",
       "      <th>keywords</th>\n",
       "      <th>keyword_nucléaire</th>\n",
       "      <th>keyword_initiatives</th>\n",
       "      <th>keyword_initiative</th>\n",
       "      <th>keyword_centrale</th>\n",
       "      <th>keyword_centrales</th>\n",
       "      <th>keyword_atomique</th>\n",
       "      <th>keyword_atomiques</th>\n",
       "      <th>keyword_suisse</th>\n",
       "      <th>keyword_energie</th>\n",
       "      <th>keyword_votation</th>\n",
       "      <th>keyword_abandon</th>\n",
       "      <th>keyword_progressif</th>\n",
       "    </tr>\n",
       "  </thead>\n",
       "  <tbody>\n",
       "    <tr>\n",
       "      <th>5</th>\n",
       "      <td>JDG</td>\n",
       "      <td>1980-10-28</td>\n",
       "      <td>6</td>\n",
       "      <td>NaN</td>\n",
       "      <td>SUISSE GENÈVI :: a 1 Hcha. ç ; e all. lsu ! Sse p alu $ u 1 sse fi DaLols ~ n oaloin Op charmil....</td>\n",
       "      <td>36673</td>\n",
       "      <td>5</td>\n",
       "      <td>0</td>\n",
       "      <td>0</td>\n",
       "      <td>0</td>\n",
       "      <td>0</td>\n",
       "      <td>0</td>\n",
       "      <td>0</td>\n",
       "      <td>0</td>\n",
       "      <td>5</td>\n",
       "      <td>0</td>\n",
       "      <td>0</td>\n",
       "      <td>0</td>\n",
       "      <td>0</td>\n",
       "    </tr>\n",
       "    <tr>\n",
       "      <th>9</th>\n",
       "      <td>JDG</td>\n",
       "      <td>1980-10-28</td>\n",
       "      <td>10</td>\n",
       "      <td>NaN</td>\n",
       "      <td>AVIS FINANCIERS 11111 50 va or 61 SOLVALOR 61 Fonds de placement immobilier Paiement du coupon N...</td>\n",
       "      <td>973</td>\n",
       "      <td>4</td>\n",
       "      <td>0</td>\n",
       "      <td>0</td>\n",
       "      <td>0</td>\n",
       "      <td>0</td>\n",
       "      <td>0</td>\n",
       "      <td>0</td>\n",
       "      <td>0</td>\n",
       "      <td>4</td>\n",
       "      <td>0</td>\n",
       "      <td>0</td>\n",
       "      <td>0</td>\n",
       "      <td>0</td>\n",
       "    </tr>\n",
       "    <tr>\n",
       "      <th>12</th>\n",
       "      <td>JDG</td>\n",
       "      <td>1980-10-28</td>\n",
       "      <td>13</td>\n",
       "      <td>NaN</td>\n",
       "      <td>/ Alcoolisme au travail : la fin d'un tabou Il Y a, estime-t-on, quelque cent cinquante mille al...</td>\n",
       "      <td>5567</td>\n",
       "      <td>3</td>\n",
       "      <td>0</td>\n",
       "      <td>0</td>\n",
       "      <td>0</td>\n",
       "      <td>0</td>\n",
       "      <td>0</td>\n",
       "      <td>0</td>\n",
       "      <td>0</td>\n",
       "      <td>3</td>\n",
       "      <td>0</td>\n",
       "      <td>0</td>\n",
       "      <td>0</td>\n",
       "      <td>0</td>\n",
       "    </tr>\n",
       "    <tr>\n",
       "      <th>13</th>\n",
       "      <td>JDG</td>\n",
       "      <td>1980-10-28</td>\n",
       "      <td>14</td>\n",
       "      <td>NaN</td>\n",
       "      <td>Jean-Claude KERNI'SAN Directeur de PROMOVENTE SA'répond à 3 questions que vous pourriez lui pose...</td>\n",
       "      <td>2650</td>\n",
       "      <td>2</td>\n",
       "      <td>0</td>\n",
       "      <td>0</td>\n",
       "      <td>0</td>\n",
       "      <td>0</td>\n",
       "      <td>0</td>\n",
       "      <td>0</td>\n",
       "      <td>0</td>\n",
       "      <td>2</td>\n",
       "      <td>0</td>\n",
       "      <td>0</td>\n",
       "      <td>0</td>\n",
       "      <td>0</td>\n",
       "    </tr>\n",
       "    <tr>\n",
       "      <th>24</th>\n",
       "      <td>JDG</td>\n",
       "      <td>1980-10-28</td>\n",
       "      <td>2</td>\n",
       "      <td>NaN</td>\n",
       "      <td>RÉACTION L'homme . ,. craint et meprise \"tiQJJ} Q 1 Jl : J 1 I' 1 ., lgn ,,, 11 Çl ture L ~ 'dep...</td>\n",
       "      <td>1990</td>\n",
       "      <td>3</td>\n",
       "      <td>0</td>\n",
       "      <td>0</td>\n",
       "      <td>0</td>\n",
       "      <td>0</td>\n",
       "      <td>0</td>\n",
       "      <td>0</td>\n",
       "      <td>0</td>\n",
       "      <td>3</td>\n",
       "      <td>0</td>\n",
       "      <td>0</td>\n",
       "      <td>0</td>\n",
       "      <td>0</td>\n",
       "    </tr>\n",
       "  </tbody>\n",
       "</table>\n",
       "</div>"
      ],
      "text/plain": [
       "    mag        date  page  ppage                                                                                                 text  length  keywords  keyword_nucléaire  keyword_initiatives  keyword_initiative  keyword_centrale  keyword_centrales  keyword_atomique  keyword_atomiques  keyword_suisse  keyword_energie  keyword_votation  keyword_abandon  keyword_progressif\n",
       "5   JDG  1980-10-28     6    NaN  SUISSE GENÈVI :: a 1 Hcha. ç ; e all. lsu ! Sse p alu $ u 1 sse fi DaLols ~ n oaloin Op charmil....   36673         5                  0                    0                   0                 0                  0                 0                  0               5                0                 0                0                   0\n",
       "9   JDG  1980-10-28    10    NaN  AVIS FINANCIERS 11111 50 va or 61 SOLVALOR 61 Fonds de placement immobilier Paiement du coupon N...     973         4                  0                    0                   0                 0                  0                 0                  0               4                0                 0                0                   0\n",
       "12  JDG  1980-10-28    13    NaN  / Alcoolisme au travail : la fin d'un tabou Il Y a, estime-t-on, quelque cent cinquante mille al...    5567         3                  0                    0                   0                 0                  0                 0                  0               3                0                 0                0                   0\n",
       "13  JDG  1980-10-28    14    NaN  Jean-Claude KERNI'SAN Directeur de PROMOVENTE SA'répond à 3 questions que vous pourriez lui pose...    2650         2                  0                    0                   0                 0                  0                 0                  0               2                0                 0                0                   0\n",
       "24  JDG  1980-10-28     2    NaN  RÉACTION L'homme . ,. craint et meprise \"tiQJJ} Q 1 Jl : J 1 I' 1 ., lgn ,,, 11 Çl ture L ~ 'dep...    1990         3                  0                    0                   0                 0                  0                 0                  0               3                0                 0                0                   0"
      ]
     },
     "metadata": {},
     "output_type": "display_data"
    }
   ],
   "source": [
    "display(df_all_.head())\n",
    "display(df_gdl_.head())\n",
    "display(df_jdg_.head())"
   ]
  },
  {
   "cell_type": "code",
   "execution_count": 11,
   "metadata": {},
   "outputs": [],
   "source": [
    "creating_iramutek_file(df_all_, \"../data/iramutek/corpus_all\" + date +\".txt\")\n",
    "creating_iramutek_file(df_jdg_, \"../data/iramutek/corpus_jdg\" + date +\".txt\")\n",
    "creating_iramutek_file(df_gdl_, \"../data/iramutek/corpus_gdl\" + date +\".txt\")"
   ]
  },
  {
   "cell_type": "code",
   "execution_count": null,
   "metadata": {},
   "outputs": [],
   "source": []
  }
 ],
 "metadata": {
  "kernelspec": {
   "display_name": "Python 3",
   "language": "python",
   "name": "python3"
  },
  "language_info": {
   "codemirror_mode": {
    "name": "ipython",
    "version": 3
   },
   "file_extension": ".py",
   "mimetype": "text/x-python",
   "name": "python",
   "nbconvert_exporter": "python",
   "pygments_lexer": "ipython3",
   "version": "3.7.6"
  }
 },
 "nbformat": 4,
 "nbformat_minor": 4
}

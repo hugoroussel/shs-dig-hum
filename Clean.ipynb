{
 "cells": [
  {
   "cell_type": "markdown",
   "metadata": {},
   "source": [
    "# Imports"
   ]
  },
  {
   "cell_type": "code",
   "execution_count": 2,
   "metadata": {},
   "outputs": [],
   "source": [
    "import json\n",
    "import os\n",
    "import bz2\n",
    "import io\n",
    "from bz2 import BZ2File\n",
    "import pandas as pd\n",
    "import numpy as np"
   ]
  },
  {
   "cell_type": "markdown",
   "metadata": {},
   "source": [
    "# Read dataset"
   ]
  },
  {
   "cell_type": "code",
   "execution_count": 3,
   "metadata": {},
   "outputs": [],
   "source": [
    "input_dir = \"data\" # create folder 'data' containing .jsonl.bz2 file and update with your path "
   ]
  },
  {
   "cell_type": "code",
   "execution_count": 4,
   "metadata": {},
   "outputs": [],
   "source": [
    "# a helper function to get the lines from am archive\n",
    "def read_jsonlines(bz2_file):\n",
    "    text = bz2_file.read().decode('utf-8')\n",
    "    for line in text.split('\\n'):\n",
    "        if line != '':\n",
    "            yield line"
   ]
  },
  {
   "cell_type": "code",
   "execution_count": 1,
   "metadata": {},
   "outputs": [
    {
     "ename": "NameError",
     "evalue": "name 'os' is not defined",
     "output_type": "error",
     "traceback": [
      "\u001b[0;31m---------------------------------------------------------------------------\u001b[0m",
      "\u001b[0;31mNameError\u001b[0m                                 Traceback (most recent call last)",
      "\u001b[0;32m<ipython-input-1-7852f24edd90>\u001b[0m in \u001b[0;36m<module>\u001b[0;34m\u001b[0m\n\u001b[0;32m----> 1\u001b[0;31m \u001b[0marchives\u001b[0m \u001b[0;34m=\u001b[0m \u001b[0mos\u001b[0m\u001b[0;34m.\u001b[0m\u001b[0mlistdir\u001b[0m\u001b[0;34m(\u001b[0m\u001b[0minput_dir\u001b[0m\u001b[0;34m)\u001b[0m\u001b[0;34m\u001b[0m\u001b[0;34m\u001b[0m\u001b[0m\n\u001b[0m",
      "\u001b[0;31mNameError\u001b[0m: name 'os' is not defined"
     ]
    }
   ],
   "source": [
    "archives = os.listdir(input_dir)"
   ]
  },
  {
   "cell_type": "markdown",
   "metadata": {},
   "source": [
    "# Extract articles"
   ]
  },
  {
   "cell_type": "code",
   "execution_count": 6,
   "metadata": {
    "scrolled": true
   },
   "outputs": [
    {
     "name": "stdout",
     "output_type": "stream",
     "text": [
      "CPU times: user 4 µs, sys: 1 µs, total: 5 µs\n",
      "Wall time: 7.87 µs\n",
      "GDL-1969.jsonl.bz2 : 50467 articles à extraire\n",
      "GDL-1969-reduced.jsonl.bz2 : 50467 articles à extraire\n"
     ]
    }
   ],
   "source": [
    "%time\n",
    "for archive in archives:\n",
    "    \n",
    "    # take only the transformed archives\n",
    "    # open the archive\n",
    "    f = BZ2File(os.path.join(input_dir, archive), 'r')\n",
    "    articles = list(read_jsonlines(f))\n",
    "    # get the list of articles it contains (= a json object on each line)\n",
    "    print(archive, ':', len(articles), 'articles à extraire')\n",
    "        \n",
    "    # load the first 100 articles as json and access their attributes\n",
    "    totalErrors = 0\n",
    "    for a in articles:\n",
    "            # decode the json string into an object (dict)\n",
    "            json_article = json.loads(a)\n",
    "            journal_.append(str(json_article[\"id\"])[:3])\n",
    "            date_.append(str(json_article[\"id\"])[4:14])\n",
    "            page_.append(str(json_article[\"pp\"])[1:-1])\n",
    "            try:\n",
    "              text_.append(str(json_article[\"ft\"]))\n",
    "            except:\n",
    "              text_.append(\"NULL\")\n",
    "              totalErrors = totalErrors + 1\n",
    "\n",
    "    print(\"total errors\", totalErrors)\n"
   ]
  },
  {
   "cell_type": "markdown",
   "metadata": {},
   "source": [
    "# Create a pandas DataFrame"
   ]
  },
  {
   "cell_type": "code",
   "execution_count": null,
   "metadata": {},
   "outputs": [],
   "source": [
    "dec = json.loads(articles[0])\n",
    "dec[\"ft\"]\n"
   ]
  },
  {
   "cell_type": "code",
   "execution_count": 7,
   "metadata": {},
   "outputs": [],
   "source": [
    "df = pd.DataFrame.from_dict(\n",
    "    {\n",
    "        'journal': journal_,\n",
    "        'date': date_,\n",
    "        'page': page_,\n",
    "        'text': text_\n",
    "    })"
   ]
  },
  {
   "cell_type": "code",
   "execution_count": 8,
   "metadata": {},
   "outputs": [
    {
     "data": {
      "text/html": [
       "<div>\n",
       "<style scoped>\n",
       "    .dataframe tbody tr th:only-of-type {\n",
       "        vertical-align: middle;\n",
       "    }\n",
       "\n",
       "    .dataframe tbody tr th {\n",
       "        vertical-align: top;\n",
       "    }\n",
       "\n",
       "    .dataframe thead th {\n",
       "        text-align: right;\n",
       "    }\n",
       "</style>\n",
       "<table border=\"1\" class=\"dataframe\">\n",
       "  <thead>\n",
       "    <tr style=\"text-align: right;\">\n",
       "      <th></th>\n",
       "      <th>journal</th>\n",
       "      <th>date</th>\n",
       "      <th>page</th>\n",
       "      <th>text</th>\n",
       "    </tr>\n",
       "  </thead>\n",
       "  <tbody>\n",
       "    <tr>\n",
       "      <th>0</th>\n",
       "      <td>GDL</td>\n",
       "      <td>1969-07-07</td>\n",
       "      <td>1</td>\n",
       "      <td>Privée de gouvernement l'Italie est inquiète A...</td>\n",
       "    </tr>\n",
       "    <tr>\n",
       "      <th>1</th>\n",
       "      <td>GDL</td>\n",
       "      <td>1969-07-07</td>\n",
       "      <td>2</td>\n",
       "      <td>*• : &amp; m wim W ^ i''***» A Cham on s'attaque a...</td>\n",
       "    </tr>\n",
       "    <tr>\n",
       "      <th>2</th>\n",
       "      <td>GDL</td>\n",
       "      <td>1969-07-07</td>\n",
       "      <td>3</td>\n",
       "      <td>Cent évêques européens aujourd'hui à Coire Com...</td>\n",
       "    </tr>\n",
       "    <tr>\n",
       "      <th>3</th>\n",
       "      <td>GDL</td>\n",
       "      <td>1969-07-07</td>\n",
       "      <td>4</td>\n",
       "      <td>Meta Antenen : record du monde AVEC 5046 POINT...</td>\n",
       "    </tr>\n",
       "    <tr>\n",
       "      <th>4</th>\n",
       "      <td>GDL</td>\n",
       "      <td>1969-07-07</td>\n",
       "      <td>5</td>\n",
       "      <td>GAÉTAN GANY A ESSAYÉ POUR VOUS Une Opel dans l...</td>\n",
       "    </tr>\n",
       "  </tbody>\n",
       "</table>\n",
       "</div>"
      ],
      "text/plain": [
       "  journal        date page                                               text\n",
       "0     GDL  1969-07-07    1  Privée de gouvernement l'Italie est inquiète A...\n",
       "1     GDL  1969-07-07    2  *• : & m wim W ^ i''***» A Cham on s'attaque a...\n",
       "2     GDL  1969-07-07    3  Cent évêques européens aujourd'hui à Coire Com...\n",
       "3     GDL  1969-07-07    4  Meta Antenen : record du monde AVEC 5046 POINT...\n",
       "4     GDL  1969-07-07    5  GAÉTAN GANY A ESSAYÉ POUR VOUS Une Opel dans l..."
      ]
     },
     "execution_count": 8,
     "metadata": {},
     "output_type": "execute_result"
    }
   ],
   "source": [
    "df.head()"
   ]
  },
  {
   "cell_type": "code",
   "execution_count": 9,
   "metadata": {},
   "outputs": [
    {
     "data": {
      "text/plain": [
       "48111"
      ]
     },
     "execution_count": 9,
     "metadata": {},
     "output_type": "execute_result"
    }
   ],
   "source": [
    "len(df)"
   ]
  },
  {
   "cell_type": "markdown",
   "metadata": {},
   "source": [
    "# Clean and enrich the DataFrame "
   ]
  },
  {
   "cell_type": "code",
   "execution_count": 10,
   "metadata": {},
   "outputs": [],
   "source": [
    "def measure_articles(df):\n",
    "    \n",
    "    lengths = []\n",
    "    \n",
    "    for ind, row in df.iterrows():\n",
    "        lengths.append(len(row['text']))\n",
    "        \n",
    "    return lengths\n",
    "\n",
    "df['length'] = measure_articles(df)"
   ]
  },
  {
   "cell_type": "code",
   "execution_count": 11,
   "metadata": {},
   "outputs": [],
   "source": [
    "import re\n",
    "def handle_multiple_pages(df):\n",
    "    \n",
    "    page, ppage = [], []\n",
    "    \n",
    "    for ind, row in df.iterrows():\n",
    "        \n",
    "        found = re.findall('([0-9]+)', row['page'])\n",
    "        if len(found) > 1:\n",
    "            page.append(found[0])\n",
    "            ppage.append(found[1])\n",
    "        else:\n",
    "            page.append(row['page'])\n",
    "            ppage.append(np.nan)\n",
    "        \n",
    "    return page, ppage\n",
    "    \n",
    "page, ppage = handle_multiple_pages(df)\n",
    "df['page'] = page\n",
    "df['ppage'] = ppage"
   ]
  },
  {
   "cell_type": "code",
   "execution_count": 12,
   "metadata": {},
   "outputs": [
    {
     "data": {
      "text/html": [
       "<div>\n",
       "<style scoped>\n",
       "    .dataframe tbody tr th:only-of-type {\n",
       "        vertical-align: middle;\n",
       "    }\n",
       "\n",
       "    .dataframe tbody tr th {\n",
       "        vertical-align: top;\n",
       "    }\n",
       "\n",
       "    .dataframe thead th {\n",
       "        text-align: right;\n",
       "    }\n",
       "</style>\n",
       "<table border=\"1\" class=\"dataframe\">\n",
       "  <thead>\n",
       "    <tr style=\"text-align: right;\">\n",
       "      <th></th>\n",
       "      <th>journal</th>\n",
       "      <th>date</th>\n",
       "      <th>page</th>\n",
       "      <th>text</th>\n",
       "      <th>length</th>\n",
       "      <th>ppage</th>\n",
       "    </tr>\n",
       "  </thead>\n",
       "  <tbody>\n",
       "    <tr>\n",
       "      <th>0</th>\n",
       "      <td>GDL</td>\n",
       "      <td>1969-07-07</td>\n",
       "      <td>1</td>\n",
       "      <td>Privée de gouvernement l'Italie est inquiète A...</td>\n",
       "      <td>3667</td>\n",
       "      <td>NaN</td>\n",
       "    </tr>\n",
       "    <tr>\n",
       "      <th>1</th>\n",
       "      <td>GDL</td>\n",
       "      <td>1969-07-07</td>\n",
       "      <td>2</td>\n",
       "      <td>*• : &amp; m wim W ^ i''***» A Cham on s'attaque a...</td>\n",
       "      <td>875</td>\n",
       "      <td>NaN</td>\n",
       "    </tr>\n",
       "    <tr>\n",
       "      <th>2</th>\n",
       "      <td>GDL</td>\n",
       "      <td>1969-07-07</td>\n",
       "      <td>3</td>\n",
       "      <td>Cent évêques européens aujourd'hui à Coire Com...</td>\n",
       "      <td>1063</td>\n",
       "      <td>NaN</td>\n",
       "    </tr>\n",
       "    <tr>\n",
       "      <th>3</th>\n",
       "      <td>GDL</td>\n",
       "      <td>1969-07-07</td>\n",
       "      <td>4</td>\n",
       "      <td>Meta Antenen : record du monde AVEC 5046 POINT...</td>\n",
       "      <td>3470</td>\n",
       "      <td>NaN</td>\n",
       "    </tr>\n",
       "    <tr>\n",
       "      <th>4</th>\n",
       "      <td>GDL</td>\n",
       "      <td>1969-07-07</td>\n",
       "      <td>5</td>\n",
       "      <td>GAÉTAN GANY A ESSAYÉ POUR VOUS Une Opel dans l...</td>\n",
       "      <td>9429</td>\n",
       "      <td>NaN</td>\n",
       "    </tr>\n",
       "  </tbody>\n",
       "</table>\n",
       "</div>"
      ],
      "text/plain": [
       "  journal        date page                                               text  \\\n",
       "0     GDL  1969-07-07    1  Privée de gouvernement l'Italie est inquiète A...   \n",
       "1     GDL  1969-07-07    2  *• : & m wim W ^ i''***» A Cham on s'attaque a...   \n",
       "2     GDL  1969-07-07    3  Cent évêques européens aujourd'hui à Coire Com...   \n",
       "3     GDL  1969-07-07    4  Meta Antenen : record du monde AVEC 5046 POINT...   \n",
       "4     GDL  1969-07-07    5  GAÉTAN GANY A ESSAYÉ POUR VOUS Une Opel dans l...   \n",
       "\n",
       "   length ppage  \n",
       "0    3667   NaN  \n",
       "1     875   NaN  \n",
       "2    1063   NaN  \n",
       "3    3470   NaN  \n",
       "4    9429   NaN  "
      ]
     },
     "execution_count": 12,
     "metadata": {},
     "output_type": "execute_result"
    }
   ],
   "source": [
    "df.head()"
   ]
  },
  {
   "cell_type": "code",
   "execution_count": 13,
   "metadata": {},
   "outputs": [],
   "source": [
    "# Jeter les articles vides ou ne contenant que quelques caractères (p.ex titre des rubriques)\n",
    "df = df[df['length'] > 50]"
   ]
  },
  {
   "cell_type": "code",
   "execution_count": 14,
   "metadata": {},
   "outputs": [],
   "source": [
    "# Sauvegarder l'index\n",
    "df['id'] = df.index"
   ]
  },
  {
   "cell_type": "code",
   "execution_count": 15,
   "metadata": {},
   "outputs": [],
   "source": [
    "# Formater les types\n",
    "df['date'] = pd.to_datetime(df['date'])\n",
    "df['journal'] = df['journal'].astype('category')\n",
    "#df['page'] = df['page'].astype('int')\n",
    "#df['ppage'] = df['ppage'].astype('float')\n",
    "df['text'] = df['text'].astype('str')"
   ]
  },
  {
   "cell_type": "code",
   "execution_count": 16,
   "metadata": {},
   "outputs": [],
   "source": [
    "df = df[['id', 'journal', 'date', 'text', 'length']]"
   ]
  },
  {
   "cell_type": "code",
   "execution_count": 17,
   "metadata": {},
   "outputs": [],
   "source": [
    "df.to_json('cleaned.json.bz2', compression = 'bz2')"
   ]
  },
  {
   "cell_type": "code",
   "execution_count": 18,
   "metadata": {},
   "outputs": [],
   "source": [
    "df_lengths = df['length'].value_counts()"
   ]
  },
  {
   "cell_type": "code",
   "execution_count": 19,
   "metadata": {},
   "outputs": [],
   "source": [
    "# Creating txt file\n",
    "txt = open('data.txt', 'w+')\n",
    "for ind, row in df.iterrows():\n",
    "    if \"nucleaire\" in row['text'] or \"nucléaire\" in row['text']:\n",
    "        date = str(row['date'])[0:10]\n",
    "        txt.write('**** *'), txt.write(str(ind))\n",
    "        txt.write(' *'), txt.write(str(row['page']))\n",
    "        txt.write(' *'), txt.write(row['journal'])\n",
    "        txt.write(' *'), txt.write(date), txt.write('\\n')\n",
    "        txt.write(row['text']), txt.write('\\n')\n",
    "\n",
    "txt.close()"
   ]
  },
  {
   "cell_type": "code",
   "execution_count": null,
   "metadata": {},
   "outputs": [],
   "source": []
  }
 ],
 "metadata": {
  "kernelspec": {
   "display_name": "Python 3",
   "language": "python",
   "name": "python3"
  },
  "language_info": {
   "codemirror_mode": {
    "name": "ipython",
    "version": 3
   },
   "file_extension": ".py",
   "mimetype": "text/x-python",
   "name": "python",
   "nbconvert_exporter": "python",
   "pygments_lexer": "ipython3",
   "version": "3.7.7"
  }
 },
 "nbformat": 4,
 "nbformat_minor": 4
}

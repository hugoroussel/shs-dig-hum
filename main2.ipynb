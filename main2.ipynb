{
 "cells": [
  {
   "cell_type": "code",
   "execution_count": 1,
   "metadata": {},
   "outputs": [],
   "source": [
    "import json\n",
    "import os\n",
    "import bz2\n",
    "import io\n",
    "from bz2 import BZ2File\n",
    "import pandas as pd\n",
    "import numpy as np\n",
    "import re\n",
    "from utils import *\n",
    "\n",
    "pd.set_option('display.max_rows', 500)\n",
    "pd.set_option('display.max_columns', 500)\n",
    "pd.set_option('display.width', 1000)\n",
    "pd.set_option('display.max_colwidth', 100)"
   ]
  },
  {
   "cell_type": "code",
   "execution_count": 2,
   "metadata": {},
   "outputs": [],
   "source": [
    "files_dir = \"../data/impresso-data\"\n",
    "archives = os.listdir(files_dir)\n",
    "date = \"1984\""
   ]
  },
  {
   "cell_type": "markdown",
   "metadata": {},
   "source": [
    "* Extract interesting archives"
   ]
  },
  {
   "cell_type": "code",
   "execution_count": 3,
   "metadata": {},
   "outputs": [],
   "source": [
    "regex = '(.*198[3-5].*)'\n",
    "gdl_ = extract_particular_files(archives, regex, 'GDL')      \n",
    "jdg_ = extract_particular_files(archives, regex, 'JDG') "
   ]
  },
  {
   "cell_type": "markdown",
   "metadata": {},
   "source": [
    "* Extract content  and preprocessing"
   ]
  },
  {
   "cell_type": "code",
   "execution_count": 4,
   "metadata": {},
   "outputs": [
    {
     "name": "stdout",
     "output_type": "stream",
     "text": [
      "GDL-1983.jsonl.bz2 : 58449 articles à extraire\n",
      "GDL-1984.jsonl.bz2 : 62830 articles à extraire\n",
      "GDL-1985.jsonl.bz2 : 61003 articles à extraire\n",
      "JDG-1983.jsonl.bz2 : 55278 articles à extraire\n",
      "JDG-1984.jsonl.bz2 : 57551 articles à extraire\n",
      "JDG-1985.jsonl.bz2 : 60329 articles à extraire\n"
     ]
    },
    {
     "name": "stderr",
     "output_type": "stream",
     "text": [
      "/opt/anaconda3/lib/python3.7/site-packages/pandas/core/generic.py:5303: SettingWithCopyWarning: \n",
      "A value is trying to be set on a copy of a slice from a DataFrame.\n",
      "Try using .loc[row_indexer,col_indexer] = value instead\n",
      "\n",
      "See the caveats in the documentation: https://pandas.pydata.org/pandas-docs/stable/user_guide/indexing.html#returning-a-view-versus-a-copy\n",
      "  self[name] = value\n"
     ]
    },
    {
     "data": {
      "text/html": [
       "<div>\n",
       "<style scoped>\n",
       "    .dataframe tbody tr th:only-of-type {\n",
       "        vertical-align: middle;\n",
       "    }\n",
       "\n",
       "    .dataframe tbody tr th {\n",
       "        vertical-align: top;\n",
       "    }\n",
       "\n",
       "    .dataframe thead th {\n",
       "        text-align: right;\n",
       "    }\n",
       "</style>\n",
       "<table border=\"1\" class=\"dataframe\">\n",
       "  <thead>\n",
       "    <tr style=\"text-align: right;\">\n",
       "      <th></th>\n",
       "      <th>mag</th>\n",
       "      <th>date</th>\n",
       "      <th>page</th>\n",
       "      <th>ppage</th>\n",
       "      <th>text</th>\n",
       "      <th>length</th>\n",
       "    </tr>\n",
       "  </thead>\n",
       "  <tbody>\n",
       "    <tr>\n",
       "      <th>0</th>\n",
       "      <td>GDL</td>\n",
       "      <td>1983-10-28</td>\n",
       "      <td>1</td>\n",
       "      <td>NaN</td>\n",
       "      <td>La faillite de la politique agricole commune COMMUNAUTÉ EUROPÉENNE Pa r Françoi s Schaller Que c...</td>\n",
       "      <td>2240</td>\n",
       "    </tr>\n",
       "    <tr>\n",
       "      <th>1</th>\n",
       "      <td>GDL</td>\n",
       "      <td>1983-10-28</td>\n",
       "      <td>2</td>\n",
       "      <td>NaN</td>\n",
       "      <td>AIR FRANCE LE CLUB ! VOTRE INTERLOCUTEUR A SUR VOUS LAVANTAGE DU TERRAIN. UNE EXCELLENTE RAISON ...</td>\n",
       "      <td>1897</td>\n",
       "    </tr>\n",
       "    <tr>\n",
       "      <th>2</th>\n",
       "      <td>GDL</td>\n",
       "      <td>1983-10-28</td>\n",
       "      <td>3</td>\n",
       "      <td>NaN</td>\n",
       "      <td>point de vue 50 km / heure : qui va payer ? A A Contre l'avis unanime des Conseils ^ ^ d'Etat de...</td>\n",
       "      <td>1153</td>\n",
       "    </tr>\n",
       "    <tr>\n",
       "      <th>3</th>\n",
       "      <td>GDL</td>\n",
       "      <td>1983-10-28</td>\n",
       "      <td>4</td>\n",
       "      <td>NaN</td>\n",
       "      <td>LAISSEZ DONC S' A L' TOUJOURS PLUS ALLER VAU- EAU CES BULLETINS. A présent, rien de plus facile ...</td>\n",
       "      <td>1902</td>\n",
       "    </tr>\n",
       "    <tr>\n",
       "      <th>4</th>\n",
       "      <td>GDL</td>\n",
       "      <td>1983-10-28</td>\n",
       "      <td>5</td>\n",
       "      <td>NaN</td>\n",
       "      <td>LES BRONZETTIS DE JANDENI Morceaux d'un autre temps Jandeni : Bijou (g) Que renferment-ils en eu...</td>\n",
       "      <td>2065</td>\n",
       "    </tr>\n",
       "  </tbody>\n",
       "</table>\n",
       "</div>"
      ],
      "text/plain": [
       "   mag        date  page  ppage                                                                                                 text  length\n",
       "0  GDL  1983-10-28     1    NaN  La faillite de la politique agricole commune COMMUNAUTÉ EUROPÉENNE Pa r Françoi s Schaller Que c...    2240\n",
       "1  GDL  1983-10-28     2    NaN  AIR FRANCE LE CLUB ! VOTRE INTERLOCUTEUR A SUR VOUS LAVANTAGE DU TERRAIN. UNE EXCELLENTE RAISON ...    1897\n",
       "2  GDL  1983-10-28     3    NaN  point de vue 50 km / heure : qui va payer ? A A Contre l'avis unanime des Conseils ^ ^ d'Etat de...    1153\n",
       "3  GDL  1983-10-28     4    NaN  LAISSEZ DONC S' A L' TOUJOURS PLUS ALLER VAU- EAU CES BULLETINS. A présent, rien de plus facile ...    1902\n",
       "4  GDL  1983-10-28     5    NaN  LES BRONZETTIS DE JANDENI Morceaux d'un autre temps Jandeni : Bijou (g) Que renferment-ils en eu...    2065"
      ]
     },
     "metadata": {},
     "output_type": "display_data"
    },
    {
     "name": "stdout",
     "output_type": "stream",
     "text": [
      "Length df: 67       494\n",
      "145      455\n",
      "91       447\n",
      "77       405\n",
      "96       403\n",
      "        ... \n",
      "36470      1\n",
      "36726      1\n",
      "13010      1\n",
      "8300       1\n",
      "33663      1\n",
      "Name: length, Length: 11487, dtype: int64\n"
     ]
    },
    {
     "name": "stderr",
     "output_type": "stream",
     "text": [
      "/opt/anaconda3/lib/python3.7/site-packages/pandas/core/generic.py:5303: SettingWithCopyWarning: \n",
      "A value is trying to be set on a copy of a slice from a DataFrame.\n",
      "Try using .loc[row_indexer,col_indexer] = value instead\n",
      "\n",
      "See the caveats in the documentation: https://pandas.pydata.org/pandas-docs/stable/user_guide/indexing.html#returning-a-view-versus-a-copy\n",
      "  self[name] = value\n"
     ]
    },
    {
     "data": {
      "text/html": [
       "<div>\n",
       "<style scoped>\n",
       "    .dataframe tbody tr th:only-of-type {\n",
       "        vertical-align: middle;\n",
       "    }\n",
       "\n",
       "    .dataframe tbody tr th {\n",
       "        vertical-align: top;\n",
       "    }\n",
       "\n",
       "    .dataframe thead th {\n",
       "        text-align: right;\n",
       "    }\n",
       "</style>\n",
       "<table border=\"1\" class=\"dataframe\">\n",
       "  <thead>\n",
       "    <tr style=\"text-align: right;\">\n",
       "      <th></th>\n",
       "      <th>mag</th>\n",
       "      <th>date</th>\n",
       "      <th>page</th>\n",
       "      <th>ppage</th>\n",
       "      <th>text</th>\n",
       "      <th>length</th>\n",
       "    </tr>\n",
       "  </thead>\n",
       "  <tbody>\n",
       "    <tr>\n",
       "      <th>0</th>\n",
       "      <td>GDL</td>\n",
       "      <td>1983-10-28</td>\n",
       "      <td>1</td>\n",
       "      <td>NaN</td>\n",
       "      <td>La faillite de la politique agricole commune COMMUNAUTÉ EUROPÉENNE Pa r Françoi s Schaller Que c...</td>\n",
       "      <td>2240</td>\n",
       "    </tr>\n",
       "    <tr>\n",
       "      <th>1</th>\n",
       "      <td>GDL</td>\n",
       "      <td>1983-10-28</td>\n",
       "      <td>2</td>\n",
       "      <td>NaN</td>\n",
       "      <td>AIR FRANCE LE CLUB ! VOTRE INTERLOCUTEUR A SUR VOUS LAVANTAGE DU TERRAIN. UNE EXCELLENTE RAISON ...</td>\n",
       "      <td>1897</td>\n",
       "    </tr>\n",
       "    <tr>\n",
       "      <th>2</th>\n",
       "      <td>GDL</td>\n",
       "      <td>1983-10-28</td>\n",
       "      <td>3</td>\n",
       "      <td>NaN</td>\n",
       "      <td>point de vue 50 km / heure : qui va payer ? A A Contre l'avis unanime des Conseils ^ ^ d'Etat de...</td>\n",
       "      <td>1153</td>\n",
       "    </tr>\n",
       "    <tr>\n",
       "      <th>3</th>\n",
       "      <td>GDL</td>\n",
       "      <td>1983-10-28</td>\n",
       "      <td>4</td>\n",
       "      <td>NaN</td>\n",
       "      <td>LAISSEZ DONC S' A L' TOUJOURS PLUS ALLER VAU- EAU CES BULLETINS. A présent, rien de plus facile ...</td>\n",
       "      <td>1902</td>\n",
       "    </tr>\n",
       "    <tr>\n",
       "      <th>4</th>\n",
       "      <td>GDL</td>\n",
       "      <td>1983-10-28</td>\n",
       "      <td>5</td>\n",
       "      <td>NaN</td>\n",
       "      <td>LES BRONZETTIS DE JANDENI Morceaux d'un autre temps Jandeni : Bijou (g) Que renferment-ils en eu...</td>\n",
       "      <td>2065</td>\n",
       "    </tr>\n",
       "  </tbody>\n",
       "</table>\n",
       "</div>"
      ],
      "text/plain": [
       "   mag        date  page  ppage                                                                                                 text  length\n",
       "0  GDL  1983-10-28     1    NaN  La faillite de la politique agricole commune COMMUNAUTÉ EUROPÉENNE Pa r Françoi s Schaller Que c...    2240\n",
       "1  GDL  1983-10-28     2    NaN  AIR FRANCE LE CLUB ! VOTRE INTERLOCUTEUR A SUR VOUS LAVANTAGE DU TERRAIN. UNE EXCELLENTE RAISON ...    1897\n",
       "2  GDL  1983-10-28     3    NaN  point de vue 50 km / heure : qui va payer ? A A Contre l'avis unanime des Conseils ^ ^ d'Etat de...    1153\n",
       "3  GDL  1983-10-28     4    NaN  LAISSEZ DONC S' A L' TOUJOURS PLUS ALLER VAU- EAU CES BULLETINS. A présent, rien de plus facile ...    1902\n",
       "4  GDL  1983-10-28     5    NaN  LES BRONZETTIS DE JANDENI Morceaux d'un autre temps Jandeni : Bijou (g) Que renferment-ils en eu...    2065"
      ]
     },
     "metadata": {},
     "output_type": "display_data"
    },
    {
     "name": "stdout",
     "output_type": "stream",
     "text": [
      "Length df: 67       328\n",
      "145      301\n",
      "91       300\n",
      "77       298\n",
      "96       274\n",
      "        ... \n",
      "14590      1\n",
      "35939      1\n",
      "5653       1\n",
      "35155      1\n",
      "32976      1\n",
      "Name: length, Length: 9129, dtype: int64\n"
     ]
    },
    {
     "name": "stderr",
     "output_type": "stream",
     "text": [
      "/opt/anaconda3/lib/python3.7/site-packages/pandas/core/generic.py:5303: SettingWithCopyWarning: \n",
      "A value is trying to be set on a copy of a slice from a DataFrame.\n",
      "Try using .loc[row_indexer,col_indexer] = value instead\n",
      "\n",
      "See the caveats in the documentation: https://pandas.pydata.org/pandas-docs/stable/user_guide/indexing.html#returning-a-view-versus-a-copy\n",
      "  self[name] = value\n"
     ]
    },
    {
     "data": {
      "text/html": [
       "<div>\n",
       "<style scoped>\n",
       "    .dataframe tbody tr th:only-of-type {\n",
       "        vertical-align: middle;\n",
       "    }\n",
       "\n",
       "    .dataframe tbody tr th {\n",
       "        vertical-align: top;\n",
       "    }\n",
       "\n",
       "    .dataframe thead th {\n",
       "        text-align: right;\n",
       "    }\n",
       "</style>\n",
       "<table border=\"1\" class=\"dataframe\">\n",
       "  <thead>\n",
       "    <tr style=\"text-align: right;\">\n",
       "      <th></th>\n",
       "      <th>mag</th>\n",
       "      <th>date</th>\n",
       "      <th>page</th>\n",
       "      <th>ppage</th>\n",
       "      <th>text</th>\n",
       "      <th>length</th>\n",
       "    </tr>\n",
       "  </thead>\n",
       "  <tbody>\n",
       "    <tr>\n",
       "      <th>0</th>\n",
       "      <td>JDG</td>\n",
       "      <td>1983-10-28</td>\n",
       "      <td>1</td>\n",
       "      <td>NaN</td>\n",
       "      <td>Le couple, la TV et le « psy » Grande première télévisuelle mercredi soir dernier sur Antenne 2 ...</td>\n",
       "      <td>3649</td>\n",
       "    </tr>\n",
       "    <tr>\n",
       "      <th>1</th>\n",
       "      <td>JDG</td>\n",
       "      <td>1983-10-28</td>\n",
       "      <td>2</td>\n",
       "      <td>NaN</td>\n",
       "      <td>AIR FRANCE LE CLUB ! VOTRE INTERLOCUTEUR A SUR VOUS ~ AVANTAGE DU TERRAIN. UNE', EXCELLENTERAISO...</td>\n",
       "      <td>1884</td>\n",
       "    </tr>\n",
       "    <tr>\n",
       "      <th>2</th>\n",
       "      <td>JDG</td>\n",
       "      <td>1983-10-28</td>\n",
       "      <td>4</td>\n",
       "      <td>NaN</td>\n",
       "      <td>A présent, rien de plus facile que d'oublier toutes les opérations inhérentes au paiement de fac...</td>\n",
       "      <td>1863</td>\n",
       "    </tr>\n",
       "    <tr>\n",
       "      <th>3</th>\n",
       "      <td>JDG</td>\n",
       "      <td>1983-10-28</td>\n",
       "      <td>5</td>\n",
       "      <td>NaN</td>\n",
       "      <td>La France fait obstacle au flnancement du programme cc esprit » Luxembourg, 27 (ATS / AFP).-La F...</td>\n",
       "      <td>1385</td>\n",
       "    </tr>\n",
       "    <tr>\n",
       "      <th>4</th>\n",
       "      <td>JDG</td>\n",
       "      <td>1983-10-28</td>\n",
       "      <td>6</td>\n",
       "      <td>NaN</td>\n",
       "      <td>I DIVERS..''.', \" ., .: ... ........ (!] HL, lesPécioliste, mondial du courrier aérien. Echantil...</td>\n",
       "      <td>954</td>\n",
       "    </tr>\n",
       "  </tbody>\n",
       "</table>\n",
       "</div>"
      ],
      "text/plain": [
       "   mag        date  page  ppage                                                                                                 text  length\n",
       "0  JDG  1983-10-28     1    NaN  Le couple, la TV et le « psy » Grande première télévisuelle mercredi soir dernier sur Antenne 2 ...    3649\n",
       "1  JDG  1983-10-28     2    NaN  AIR FRANCE LE CLUB ! VOTRE INTERLOCUTEUR A SUR VOUS ~ AVANTAGE DU TERRAIN. UNE', EXCELLENTERAISO...    1884\n",
       "2  JDG  1983-10-28     4    NaN  A présent, rien de plus facile que d'oublier toutes les opérations inhérentes au paiement de fac...    1863\n",
       "3  JDG  1983-10-28     5    NaN  La France fait obstacle au flnancement du programme cc esprit » Luxembourg, 27 (ATS / AFP).-La F...    1385\n",
       "4  JDG  1983-10-28     6    NaN  I DIVERS..''.', \" ., .: ... ........ (!] HL, lesPécioliste, mondial du courrier aérien. Echantil...     954"
      ]
     },
     "metadata": {},
     "output_type": "display_data"
    },
    {
     "name": "stdout",
     "output_type": "stream",
     "text": [
      "Length df: 201      182\n",
      "67       166\n",
      "145      154\n",
      "134      147\n",
      "91       147\n",
      "        ... \n",
      "37859      1\n",
      "6978       1\n",
      "9077       1\n",
      "34570      1\n",
      "7223       1\n",
      "Name: length, Length: 9673, dtype: int64\n"
     ]
    }
   ],
   "source": [
    " df_all, df_gdl, df_jdg = run(gdl_, jdg_, date, files_dir)"
   ]
  },
  {
   "cell_type": "markdown",
   "metadata": {},
   "source": [
    "* Keywords filtering"
   ]
  },
  {
   "cell_type": "code",
   "execution_count": 5,
   "metadata": {},
   "outputs": [],
   "source": [
    "#keywords_1962 =['nucléaire', 'Cuba', 'guerre', 'tension','risque', 'bombe', 'guerre nucléaire']\n",
    "keywords_1984 = ['nucléaire','initiatives', 'initiative', 'centrale', 'centrales', 'atomique', 'atomiques', 'energie', 'votation']\n",
    "cleaned_files_dir = \"../data/filtered/\"\n",
    "unwanted = ['tableau hebdomadaire']#, '(\\/(\\s\\d*)*\\s)*']\n",
    "archives = os.listdir(files_dir)"
   ]
  },
  {
   "cell_type": "code",
   "execution_count": 6,
   "metadata": {},
   "outputs": [],
   "source": [
    "#df_all = load_corpus(cleaned_files_dir + \"cleaned_all\" + date +\".json.bz2\")\n",
    "#df_gdl = load_corpus(cleaned_files_dir + \"cleaned_gdl\" + date +\".json.bz2\")\n",
    "#df_jdg = load_corpus(cleaned_files_dir + \"cleaned_jdg\" + date +\".json.bz2\")\n",
    "\n"
   ]
  },
  {
   "cell_type": "code",
   "execution_count": 7,
   "metadata": {
    "scrolled": false
   },
   "outputs": [
    {
     "name": "stdout",
     "output_type": "stream",
     "text": [
      "===KEYWORDS===\n"
     ]
    },
    {
     "data": {
      "text/plain": [
       "'After keyword filtered: '"
      ]
     },
     "metadata": {},
     "output_type": "display_data"
    },
    {
     "data": {
      "text/plain": [
       "(11104, 16)"
      ]
     },
     "metadata": {},
     "output_type": "display_data"
    },
    {
     "name": "stdout",
     "output_type": "stream",
     "text": [
      "=====UNWANTED====\n"
     ]
    },
    {
     "data": {
      "text/plain": [
       "'After keyword filtered: '"
      ]
     },
     "metadata": {},
     "output_type": "display_data"
    },
    {
     "data": {
      "text/plain": [
       "(11104, 16)"
      ]
     },
     "metadata": {},
     "output_type": "display_data"
    }
   ],
   "source": [
    "df_all_ = keywords_filtering(df_all, keywords_1984)\n",
    "df_all_ = unwanted_filtering(df_all_, unwanted)\n"
   ]
  },
  {
   "cell_type": "code",
   "execution_count": 8,
   "metadata": {},
   "outputs": [
    {
     "name": "stdout",
     "output_type": "stream",
     "text": [
      "===KEYWORDS===\n"
     ]
    },
    {
     "data": {
      "text/plain": [
       "'After keyword filtered: '"
      ]
     },
     "metadata": {},
     "output_type": "display_data"
    },
    {
     "data": {
      "text/plain": [
       "(5527, 16)"
      ]
     },
     "metadata": {},
     "output_type": "display_data"
    },
    {
     "name": "stdout",
     "output_type": "stream",
     "text": [
      "=====UNWANTED====\n"
     ]
    },
    {
     "data": {
      "text/plain": [
       "'After keyword filtered: '"
      ]
     },
     "metadata": {},
     "output_type": "display_data"
    },
    {
     "data": {
      "text/plain": [
       "(5527, 16)"
      ]
     },
     "metadata": {},
     "output_type": "display_data"
    }
   ],
   "source": [
    "df_gdl_ = keywords_filtering(df_gdl, keywords_1984)\n",
    "df_gdl_ = unwanted_filtering(df_gdl_, unwanted)"
   ]
  },
  {
   "cell_type": "code",
   "execution_count": 9,
   "metadata": {},
   "outputs": [
    {
     "name": "stdout",
     "output_type": "stream",
     "text": [
      "===KEYWORDS===\n"
     ]
    },
    {
     "data": {
      "text/plain": [
       "'After keyword filtered: '"
      ]
     },
     "metadata": {},
     "output_type": "display_data"
    },
    {
     "data": {
      "text/plain": [
       "(5577, 16)"
      ]
     },
     "metadata": {},
     "output_type": "display_data"
    },
    {
     "name": "stdout",
     "output_type": "stream",
     "text": [
      "=====UNWANTED====\n"
     ]
    },
    {
     "data": {
      "text/plain": [
       "'After keyword filtered: '"
      ]
     },
     "metadata": {},
     "output_type": "display_data"
    },
    {
     "data": {
      "text/plain": [
       "(5577, 16)"
      ]
     },
     "metadata": {},
     "output_type": "display_data"
    }
   ],
   "source": [
    "df_jdg_ = keywords_filtering(df_jdg, keywords_1984)\n",
    "df_jdg_ = unwanted_filtering(df_jdg_, unwanted)"
   ]
  },
  {
   "cell_type": "markdown",
   "metadata": {},
   "source": [
    "* Export iramutek"
   ]
  },
  {
   "cell_type": "code",
   "execution_count": 10,
   "metadata": {},
   "outputs": [
    {
     "data": {
      "text/html": [
       "<div>\n",
       "<style scoped>\n",
       "    .dataframe tbody tr th:only-of-type {\n",
       "        vertical-align: middle;\n",
       "    }\n",
       "\n",
       "    .dataframe tbody tr th {\n",
       "        vertical-align: top;\n",
       "    }\n",
       "\n",
       "    .dataframe thead th {\n",
       "        text-align: right;\n",
       "    }\n",
       "</style>\n",
       "<table border=\"1\" class=\"dataframe\">\n",
       "  <thead>\n",
       "    <tr style=\"text-align: right;\">\n",
       "      <th></th>\n",
       "      <th>mag</th>\n",
       "      <th>date</th>\n",
       "      <th>page</th>\n",
       "      <th>ppage</th>\n",
       "      <th>text</th>\n",
       "      <th>length</th>\n",
       "      <th>keywords</th>\n",
       "      <th>keyword_nucléaire</th>\n",
       "      <th>keyword_initiatives</th>\n",
       "      <th>keyword_initiative</th>\n",
       "      <th>keyword_centrale</th>\n",
       "      <th>keyword_centrales</th>\n",
       "      <th>keyword_atomique</th>\n",
       "      <th>keyword_atomiques</th>\n",
       "      <th>keyword_energie</th>\n",
       "      <th>keyword_votation</th>\n",
       "    </tr>\n",
       "  </thead>\n",
       "  <tbody>\n",
       "    <tr>\n",
       "      <th>0</th>\n",
       "      <td>GDL</td>\n",
       "      <td>1983-10-28</td>\n",
       "      <td>1</td>\n",
       "      <td>NaN</td>\n",
       "      <td>La faillite de la politique agricole commune COMMUNAUTÉ EUROPÉENNE Pa r Françoi s Schaller Que c...</td>\n",
       "      <td>2240</td>\n",
       "      <td>1</td>\n",
       "      <td>0</td>\n",
       "      <td>0</td>\n",
       "      <td>1</td>\n",
       "      <td>0</td>\n",
       "      <td>0</td>\n",
       "      <td>0</td>\n",
       "      <td>0</td>\n",
       "      <td>0</td>\n",
       "      <td>0</td>\n",
       "    </tr>\n",
       "    <tr>\n",
       "      <th>1</th>\n",
       "      <td>GDL</td>\n",
       "      <td>1983-10-28</td>\n",
       "      <td>2</td>\n",
       "      <td>NaN</td>\n",
       "      <td>AIR FRANCE LE CLUB ! VOTRE INTERLOCUTEUR A SUR VOUS LAVANTAGE DU TERRAIN. UNE EXCELLENTE RAISON ...</td>\n",
       "      <td>1897</td>\n",
       "      <td>0</td>\n",
       "      <td>0</td>\n",
       "      <td>0</td>\n",
       "      <td>0</td>\n",
       "      <td>0</td>\n",
       "      <td>0</td>\n",
       "      <td>0</td>\n",
       "      <td>0</td>\n",
       "      <td>0</td>\n",
       "      <td>0</td>\n",
       "    </tr>\n",
       "    <tr>\n",
       "      <th>2</th>\n",
       "      <td>GDL</td>\n",
       "      <td>1983-10-28</td>\n",
       "      <td>3</td>\n",
       "      <td>NaN</td>\n",
       "      <td>point de vue 50 km / heure : qui va payer ? A A Contre l'avis unanime des Conseils ^ ^ d'Etat de...</td>\n",
       "      <td>1153</td>\n",
       "      <td>0</td>\n",
       "      <td>0</td>\n",
       "      <td>0</td>\n",
       "      <td>0</td>\n",
       "      <td>0</td>\n",
       "      <td>0</td>\n",
       "      <td>0</td>\n",
       "      <td>0</td>\n",
       "      <td>0</td>\n",
       "      <td>0</td>\n",
       "    </tr>\n",
       "    <tr>\n",
       "      <th>3</th>\n",
       "      <td>GDL</td>\n",
       "      <td>1983-10-28</td>\n",
       "      <td>4</td>\n",
       "      <td>NaN</td>\n",
       "      <td>LAISSEZ DONC S' A L' TOUJOURS PLUS ALLER VAU- EAU CES BULLETINS. A présent, rien de plus facile ...</td>\n",
       "      <td>1902</td>\n",
       "      <td>0</td>\n",
       "      <td>0</td>\n",
       "      <td>0</td>\n",
       "      <td>0</td>\n",
       "      <td>0</td>\n",
       "      <td>0</td>\n",
       "      <td>0</td>\n",
       "      <td>0</td>\n",
       "      <td>0</td>\n",
       "      <td>0</td>\n",
       "    </tr>\n",
       "    <tr>\n",
       "      <th>4</th>\n",
       "      <td>GDL</td>\n",
       "      <td>1983-10-28</td>\n",
       "      <td>5</td>\n",
       "      <td>NaN</td>\n",
       "      <td>LES BRONZETTIS DE JANDENI Morceaux d'un autre temps Jandeni : Bijou (g) Que renferment-ils en eu...</td>\n",
       "      <td>2065</td>\n",
       "      <td>0</td>\n",
       "      <td>0</td>\n",
       "      <td>0</td>\n",
       "      <td>0</td>\n",
       "      <td>0</td>\n",
       "      <td>0</td>\n",
       "      <td>0</td>\n",
       "      <td>0</td>\n",
       "      <td>0</td>\n",
       "      <td>0</td>\n",
       "    </tr>\n",
       "  </tbody>\n",
       "</table>\n",
       "</div>"
      ],
      "text/plain": [
       "   mag        date  page  ppage                                                                                                 text  length  keywords  keyword_nucléaire  keyword_initiatives  keyword_initiative  keyword_centrale  keyword_centrales  keyword_atomique  keyword_atomiques  keyword_energie  keyword_votation\n",
       "0  GDL  1983-10-28     1    NaN  La faillite de la politique agricole commune COMMUNAUTÉ EUROPÉENNE Pa r Françoi s Schaller Que c...    2240         1                  0                    0                   1                 0                  0                 0                  0                0                 0\n",
       "1  GDL  1983-10-28     2    NaN  AIR FRANCE LE CLUB ! VOTRE INTERLOCUTEUR A SUR VOUS LAVANTAGE DU TERRAIN. UNE EXCELLENTE RAISON ...    1897         0                  0                    0                   0                 0                  0                 0                  0                0                 0\n",
       "2  GDL  1983-10-28     3    NaN  point de vue 50 km / heure : qui va payer ? A A Contre l'avis unanime des Conseils ^ ^ d'Etat de...    1153         0                  0                    0                   0                 0                  0                 0                  0                0                 0\n",
       "3  GDL  1983-10-28     4    NaN  LAISSEZ DONC S' A L' TOUJOURS PLUS ALLER VAU- EAU CES BULLETINS. A présent, rien de plus facile ...    1902         0                  0                    0                   0                 0                  0                 0                  0                0                 0\n",
       "4  GDL  1983-10-28     5    NaN  LES BRONZETTIS DE JANDENI Morceaux d'un autre temps Jandeni : Bijou (g) Que renferment-ils en eu...    2065         0                  0                    0                   0                 0                  0                 0                  0                0                 0"
      ]
     },
     "metadata": {},
     "output_type": "display_data"
    },
    {
     "data": {
      "text/html": [
       "<div>\n",
       "<style scoped>\n",
       "    .dataframe tbody tr th:only-of-type {\n",
       "        vertical-align: middle;\n",
       "    }\n",
       "\n",
       "    .dataframe tbody tr th {\n",
       "        vertical-align: top;\n",
       "    }\n",
       "\n",
       "    .dataframe thead th {\n",
       "        text-align: right;\n",
       "    }\n",
       "</style>\n",
       "<table border=\"1\" class=\"dataframe\">\n",
       "  <thead>\n",
       "    <tr style=\"text-align: right;\">\n",
       "      <th></th>\n",
       "      <th>mag</th>\n",
       "      <th>date</th>\n",
       "      <th>page</th>\n",
       "      <th>ppage</th>\n",
       "      <th>text</th>\n",
       "      <th>length</th>\n",
       "      <th>keywords</th>\n",
       "      <th>keyword_nucléaire</th>\n",
       "      <th>keyword_initiatives</th>\n",
       "      <th>keyword_initiative</th>\n",
       "      <th>keyword_centrale</th>\n",
       "      <th>keyword_centrales</th>\n",
       "      <th>keyword_atomique</th>\n",
       "      <th>keyword_atomiques</th>\n",
       "      <th>keyword_energie</th>\n",
       "      <th>keyword_votation</th>\n",
       "    </tr>\n",
       "  </thead>\n",
       "  <tbody>\n",
       "    <tr>\n",
       "      <th>0</th>\n",
       "      <td>GDL</td>\n",
       "      <td>1983-10-28</td>\n",
       "      <td>1</td>\n",
       "      <td>NaN</td>\n",
       "      <td>La faillite de la politique agricole commune COMMUNAUTÉ EUROPÉENNE Pa r Françoi s Schaller Que c...</td>\n",
       "      <td>2240</td>\n",
       "      <td>1</td>\n",
       "      <td>0</td>\n",
       "      <td>0</td>\n",
       "      <td>1</td>\n",
       "      <td>0</td>\n",
       "      <td>0</td>\n",
       "      <td>0</td>\n",
       "      <td>0</td>\n",
       "      <td>0</td>\n",
       "      <td>0</td>\n",
       "    </tr>\n",
       "    <tr>\n",
       "      <th>1</th>\n",
       "      <td>GDL</td>\n",
       "      <td>1983-10-28</td>\n",
       "      <td>2</td>\n",
       "      <td>NaN</td>\n",
       "      <td>AIR FRANCE LE CLUB ! VOTRE INTERLOCUTEUR A SUR VOUS LAVANTAGE DU TERRAIN. UNE EXCELLENTE RAISON ...</td>\n",
       "      <td>1897</td>\n",
       "      <td>0</td>\n",
       "      <td>0</td>\n",
       "      <td>0</td>\n",
       "      <td>0</td>\n",
       "      <td>0</td>\n",
       "      <td>0</td>\n",
       "      <td>0</td>\n",
       "      <td>0</td>\n",
       "      <td>0</td>\n",
       "      <td>0</td>\n",
       "    </tr>\n",
       "    <tr>\n",
       "      <th>2</th>\n",
       "      <td>GDL</td>\n",
       "      <td>1983-10-28</td>\n",
       "      <td>3</td>\n",
       "      <td>NaN</td>\n",
       "      <td>point de vue 50 km / heure : qui va payer ? A A Contre l'avis unanime des Conseils ^ ^ d'Etat de...</td>\n",
       "      <td>1153</td>\n",
       "      <td>0</td>\n",
       "      <td>0</td>\n",
       "      <td>0</td>\n",
       "      <td>0</td>\n",
       "      <td>0</td>\n",
       "      <td>0</td>\n",
       "      <td>0</td>\n",
       "      <td>0</td>\n",
       "      <td>0</td>\n",
       "      <td>0</td>\n",
       "    </tr>\n",
       "    <tr>\n",
       "      <th>3</th>\n",
       "      <td>GDL</td>\n",
       "      <td>1983-10-28</td>\n",
       "      <td>4</td>\n",
       "      <td>NaN</td>\n",
       "      <td>LAISSEZ DONC S' A L' TOUJOURS PLUS ALLER VAU- EAU CES BULLETINS. A présent, rien de plus facile ...</td>\n",
       "      <td>1902</td>\n",
       "      <td>0</td>\n",
       "      <td>0</td>\n",
       "      <td>0</td>\n",
       "      <td>0</td>\n",
       "      <td>0</td>\n",
       "      <td>0</td>\n",
       "      <td>0</td>\n",
       "      <td>0</td>\n",
       "      <td>0</td>\n",
       "      <td>0</td>\n",
       "    </tr>\n",
       "    <tr>\n",
       "      <th>4</th>\n",
       "      <td>GDL</td>\n",
       "      <td>1983-10-28</td>\n",
       "      <td>5</td>\n",
       "      <td>NaN</td>\n",
       "      <td>LES BRONZETTIS DE JANDENI Morceaux d'un autre temps Jandeni : Bijou (g) Que renferment-ils en eu...</td>\n",
       "      <td>2065</td>\n",
       "      <td>0</td>\n",
       "      <td>0</td>\n",
       "      <td>0</td>\n",
       "      <td>0</td>\n",
       "      <td>0</td>\n",
       "      <td>0</td>\n",
       "      <td>0</td>\n",
       "      <td>0</td>\n",
       "      <td>0</td>\n",
       "      <td>0</td>\n",
       "    </tr>\n",
       "  </tbody>\n",
       "</table>\n",
       "</div>"
      ],
      "text/plain": [
       "   mag        date  page  ppage                                                                                                 text  length  keywords  keyword_nucléaire  keyword_initiatives  keyword_initiative  keyword_centrale  keyword_centrales  keyword_atomique  keyword_atomiques  keyword_energie  keyword_votation\n",
       "0  GDL  1983-10-28     1    NaN  La faillite de la politique agricole commune COMMUNAUTÉ EUROPÉENNE Pa r Françoi s Schaller Que c...    2240         1                  0                    0                   1                 0                  0                 0                  0                0                 0\n",
       "1  GDL  1983-10-28     2    NaN  AIR FRANCE LE CLUB ! VOTRE INTERLOCUTEUR A SUR VOUS LAVANTAGE DU TERRAIN. UNE EXCELLENTE RAISON ...    1897         0                  0                    0                   0                 0                  0                 0                  0                0                 0\n",
       "2  GDL  1983-10-28     3    NaN  point de vue 50 km / heure : qui va payer ? A A Contre l'avis unanime des Conseils ^ ^ d'Etat de...    1153         0                  0                    0                   0                 0                  0                 0                  0                0                 0\n",
       "3  GDL  1983-10-28     4    NaN  LAISSEZ DONC S' A L' TOUJOURS PLUS ALLER VAU- EAU CES BULLETINS. A présent, rien de plus facile ...    1902         0                  0                    0                   0                 0                  0                 0                  0                0                 0\n",
       "4  GDL  1983-10-28     5    NaN  LES BRONZETTIS DE JANDENI Morceaux d'un autre temps Jandeni : Bijou (g) Que renferment-ils en eu...    2065         0                  0                    0                   0                 0                  0                 0                  0                0                 0"
      ]
     },
     "metadata": {},
     "output_type": "display_data"
    },
    {
     "data": {
      "text/html": [
       "<div>\n",
       "<style scoped>\n",
       "    .dataframe tbody tr th:only-of-type {\n",
       "        vertical-align: middle;\n",
       "    }\n",
       "\n",
       "    .dataframe tbody tr th {\n",
       "        vertical-align: top;\n",
       "    }\n",
       "\n",
       "    .dataframe thead th {\n",
       "        text-align: right;\n",
       "    }\n",
       "</style>\n",
       "<table border=\"1\" class=\"dataframe\">\n",
       "  <thead>\n",
       "    <tr style=\"text-align: right;\">\n",
       "      <th></th>\n",
       "      <th>mag</th>\n",
       "      <th>date</th>\n",
       "      <th>page</th>\n",
       "      <th>ppage</th>\n",
       "      <th>text</th>\n",
       "      <th>length</th>\n",
       "      <th>keywords</th>\n",
       "      <th>keyword_nucléaire</th>\n",
       "      <th>keyword_initiatives</th>\n",
       "      <th>keyword_initiative</th>\n",
       "      <th>keyword_centrale</th>\n",
       "      <th>keyword_centrales</th>\n",
       "      <th>keyword_atomique</th>\n",
       "      <th>keyword_atomiques</th>\n",
       "      <th>keyword_energie</th>\n",
       "      <th>keyword_votation</th>\n",
       "    </tr>\n",
       "  </thead>\n",
       "  <tbody>\n",
       "    <tr>\n",
       "      <th>0</th>\n",
       "      <td>JDG</td>\n",
       "      <td>1983-10-28</td>\n",
       "      <td>1</td>\n",
       "      <td>NaN</td>\n",
       "      <td>Le couple, la TV et le « psy » Grande première télévisuelle mercredi soir dernier sur Antenne 2 ...</td>\n",
       "      <td>3649</td>\n",
       "      <td>0</td>\n",
       "      <td>0</td>\n",
       "      <td>0</td>\n",
       "      <td>0</td>\n",
       "      <td>0</td>\n",
       "      <td>0</td>\n",
       "      <td>0</td>\n",
       "      <td>0</td>\n",
       "      <td>0</td>\n",
       "      <td>0</td>\n",
       "    </tr>\n",
       "    <tr>\n",
       "      <th>1</th>\n",
       "      <td>JDG</td>\n",
       "      <td>1983-10-28</td>\n",
       "      <td>2</td>\n",
       "      <td>NaN</td>\n",
       "      <td>AIR FRANCE LE CLUB ! VOTRE INTERLOCUTEUR A SUR VOUS ~ AVANTAGE DU TERRAIN. UNE', EXCELLENTERAISO...</td>\n",
       "      <td>1884</td>\n",
       "      <td>0</td>\n",
       "      <td>0</td>\n",
       "      <td>0</td>\n",
       "      <td>0</td>\n",
       "      <td>0</td>\n",
       "      <td>0</td>\n",
       "      <td>0</td>\n",
       "      <td>0</td>\n",
       "      <td>0</td>\n",
       "      <td>0</td>\n",
       "    </tr>\n",
       "    <tr>\n",
       "      <th>2</th>\n",
       "      <td>JDG</td>\n",
       "      <td>1983-10-28</td>\n",
       "      <td>4</td>\n",
       "      <td>NaN</td>\n",
       "      <td>A présent, rien de plus facile que d'oublier toutes les opérations inhérentes au paiement de fac...</td>\n",
       "      <td>1863</td>\n",
       "      <td>0</td>\n",
       "      <td>0</td>\n",
       "      <td>0</td>\n",
       "      <td>0</td>\n",
       "      <td>0</td>\n",
       "      <td>0</td>\n",
       "      <td>0</td>\n",
       "      <td>0</td>\n",
       "      <td>0</td>\n",
       "      <td>0</td>\n",
       "    </tr>\n",
       "    <tr>\n",
       "      <th>3</th>\n",
       "      <td>JDG</td>\n",
       "      <td>1983-10-28</td>\n",
       "      <td>5</td>\n",
       "      <td>NaN</td>\n",
       "      <td>La France fait obstacle au flnancement du programme cc esprit » Luxembourg, 27 (ATS / AFP).-La F...</td>\n",
       "      <td>1385</td>\n",
       "      <td>0</td>\n",
       "      <td>0</td>\n",
       "      <td>0</td>\n",
       "      <td>0</td>\n",
       "      <td>0</td>\n",
       "      <td>0</td>\n",
       "      <td>0</td>\n",
       "      <td>0</td>\n",
       "      <td>0</td>\n",
       "      <td>0</td>\n",
       "    </tr>\n",
       "    <tr>\n",
       "      <th>4</th>\n",
       "      <td>JDG</td>\n",
       "      <td>1983-10-28</td>\n",
       "      <td>6</td>\n",
       "      <td>NaN</td>\n",
       "      <td>I DIVERS..''.', \" ., .: ... ........ (!] HL, lesPécioliste, mondial du courrier aérien. Echantil...</td>\n",
       "      <td>954</td>\n",
       "      <td>0</td>\n",
       "      <td>0</td>\n",
       "      <td>0</td>\n",
       "      <td>0</td>\n",
       "      <td>0</td>\n",
       "      <td>0</td>\n",
       "      <td>0</td>\n",
       "      <td>0</td>\n",
       "      <td>0</td>\n",
       "      <td>0</td>\n",
       "    </tr>\n",
       "  </tbody>\n",
       "</table>\n",
       "</div>"
      ],
      "text/plain": [
       "   mag        date  page  ppage                                                                                                 text  length  keywords  keyword_nucléaire  keyword_initiatives  keyword_initiative  keyword_centrale  keyword_centrales  keyword_atomique  keyword_atomiques  keyword_energie  keyword_votation\n",
       "0  JDG  1983-10-28     1    NaN  Le couple, la TV et le « psy » Grande première télévisuelle mercredi soir dernier sur Antenne 2 ...    3649         0                  0                    0                   0                 0                  0                 0                  0                0                 0\n",
       "1  JDG  1983-10-28     2    NaN  AIR FRANCE LE CLUB ! VOTRE INTERLOCUTEUR A SUR VOUS ~ AVANTAGE DU TERRAIN. UNE', EXCELLENTERAISO...    1884         0                  0                    0                   0                 0                  0                 0                  0                0                 0\n",
       "2  JDG  1983-10-28     4    NaN  A présent, rien de plus facile que d'oublier toutes les opérations inhérentes au paiement de fac...    1863         0                  0                    0                   0                 0                  0                 0                  0                0                 0\n",
       "3  JDG  1983-10-28     5    NaN  La France fait obstacle au flnancement du programme cc esprit » Luxembourg, 27 (ATS / AFP).-La F...    1385         0                  0                    0                   0                 0                  0                 0                  0                0                 0\n",
       "4  JDG  1983-10-28     6    NaN  I DIVERS..''.', \" ., .: ... ........ (!] HL, lesPécioliste, mondial du courrier aérien. Echantil...     954         0                  0                    0                   0                 0                  0                 0                  0                0                 0"
      ]
     },
     "metadata": {},
     "output_type": "display_data"
    }
   ],
   "source": [
    "display(df_all.head())\n",
    "display(df_gdl.head())\n",
    "display(df_jdg.head())"
   ]
  },
  {
   "cell_type": "code",
   "execution_count": 11,
   "metadata": {},
   "outputs": [],
   "source": [
    "creating_iramutek_file(df_all_, \"../data/iramutek/corpus_all\" + date +\".txt\")\n",
    "creating_iramutek_file(df_jdg_, \"../data/iramutek/corpus_jdg\" + date +\".txt\")\n",
    "creating_iramutek_file(df_gdl_, \"../data/iramutek/corpus_gdl\" + date +\".txt\")"
   ]
  },
  {
   "cell_type": "code",
   "execution_count": null,
   "metadata": {},
   "outputs": [],
   "source": []
  }
 ],
 "metadata": {
  "kernelspec": {
   "display_name": "Python 3",
   "language": "python",
   "name": "python3"
  },
  "language_info": {
   "codemirror_mode": {
    "name": "ipython",
    "version": 3
   },
   "file_extension": ".py",
   "mimetype": "text/x-python",
   "name": "python",
   "nbconvert_exporter": "python",
   "pygments_lexer": "ipython3",
   "version": "3.7.6"
  }
 },
 "nbformat": 4,
 "nbformat_minor": 4
}

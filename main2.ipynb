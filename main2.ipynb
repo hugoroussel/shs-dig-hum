{
 "cells": [
  {
   "cell_type": "code",
   "execution_count": 1,
   "metadata": {},
   "outputs": [],
   "source": [
    "import json\n",
    "import os\n",
    "import bz2\n",
    "import io\n",
    "from bz2 import BZ2File\n",
    "import pandas as pd\n",
    "import numpy as np\n",
    "import re\n",
    "from utils import *\n",
    "\n",
    "pd.set_option('display.max_rows', 500)\n",
    "pd.set_option('display.max_columns', 500)\n",
    "pd.set_option('display.width', 1000)\n",
    "pd.set_option('display.max_colwidth', 100)"
   ]
  },
  {
   "cell_type": "code",
   "execution_count": 2,
   "metadata": {},
   "outputs": [],
   "source": [
    "files_dir = \"../data/impresso-data\"\n",
    "archives = os.listdir(files_dir)\n",
    "date = \"1969\""
   ]
  },
  {
   "cell_type": "markdown",
   "metadata": {},
   "source": [
    "* Extract interesting archives"
   ]
  },
  {
   "cell_type": "code",
   "execution_count": 3,
   "metadata": {},
   "outputs": [],
   "source": [
    "regex = '(.*196[8-9].*)|(.*197[0-1].*)'\n",
    "gdl_ = extract_particular_files(archives, regex, 'GDL')      \n",
    "jdg_ = extract_particular_files(archives, regex, 'JDG') "
   ]
  },
  {
   "cell_type": "markdown",
   "metadata": {},
   "source": [
    "* Extract content  and preprocessing"
   ]
  },
  {
   "cell_type": "code",
   "execution_count": 4,
   "metadata": {},
   "outputs": [
    {
     "name": "stdout",
     "output_type": "stream",
     "text": [
      "GDL-1968.jsonl.bz2 : 51434 articles à extraire\n",
      "GDL-1969.jsonl.bz2 : 50467 articles à extraire\n",
      "GDL-1970.jsonl.bz2 : 58656 articles à extraire\n",
      "GDL-1971.jsonl.bz2 : 54695 articles à extraire\n",
      "JDG-1968.jsonl.bz2 : 45200 articles à extraire\n",
      "JDG-1969.jsonl.bz2 : 47098 articles à extraire\n",
      "JDG-1970.jsonl.bz2 : 45544 articles à extraire\n",
      "JDG-1971.jsonl.bz2 : 44609 articles à extraire\n"
     ]
    },
    {
     "name": "stderr",
     "output_type": "stream",
     "text": [
      "/opt/anaconda3/lib/python3.7/site-packages/pandas/core/generic.py:5303: SettingWithCopyWarning: \n",
      "A value is trying to be set on a copy of a slice from a DataFrame.\n",
      "Try using .loc[row_indexer,col_indexer] = value instead\n",
      "\n",
      "See the caveats in the documentation: https://pandas.pydata.org/pandas-docs/stable/user_guide/indexing.html#returning-a-view-versus-a-copy\n",
      "  self[name] = value\n"
     ]
    },
    {
     "data": {
      "text/html": [
       "<div>\n",
       "<style scoped>\n",
       "    .dataframe tbody tr th:only-of-type {\n",
       "        vertical-align: middle;\n",
       "    }\n",
       "\n",
       "    .dataframe tbody tr th {\n",
       "        vertical-align: top;\n",
       "    }\n",
       "\n",
       "    .dataframe thead th {\n",
       "        text-align: right;\n",
       "    }\n",
       "</style>\n",
       "<table border=\"1\" class=\"dataframe\">\n",
       "  <thead>\n",
       "    <tr style=\"text-align: right;\">\n",
       "      <th></th>\n",
       "      <th>mag</th>\n",
       "      <th>date</th>\n",
       "      <th>page</th>\n",
       "      <th>ppage</th>\n",
       "      <th>text</th>\n",
       "      <th>length</th>\n",
       "    </tr>\n",
       "  </thead>\n",
       "  <tbody>\n",
       "    <tr>\n",
       "      <th>233</th>\n",
       "      <td>GDL</td>\n",
       "      <td>1968-07-27</td>\n",
       "      <td>1</td>\n",
       "      <td>NaN</td>\n",
       "      <td>L'échec de Moscou BULLETIN Au-delà des rumeurs contradictoires qui sont le lot de toute guerre d...</td>\n",
       "      <td>4135</td>\n",
       "    </tr>\n",
       "    <tr>\n",
       "      <th>234</th>\n",
       "      <td>GDL</td>\n",
       "      <td>1968-07-27</td>\n",
       "      <td>2</td>\n",
       "      <td>NaN</td>\n",
       "      <td>\\ iomus &gt;\\\\ I////LOUIJ //|\\ \\ v . Magnifiques circuits en cars pullman 3 Jours : 28-30 juillet C...</td>\n",
       "      <td>873</td>\n",
       "    </tr>\n",
       "    <tr>\n",
       "      <th>235</th>\n",
       "      <td>GDL</td>\n",
       "      <td>1968-07-27</td>\n",
       "      <td>3</td>\n",
       "      <td>NaN</td>\n",
       "      <td>MÉCANISME INDISPENSABLE AU DÉVELOPPEMENT INDUSTRIEL LA BOURSE DANS L'ECONOMIE SUISSE.-V, par Gér...</td>\n",
       "      <td>7341</td>\n",
       "    </tr>\n",
       "    <tr>\n",
       "      <th>236</th>\n",
       "      <td>GDL</td>\n",
       "      <td>1968-07-27</td>\n",
       "      <td>4</td>\n",
       "      <td>NaN</td>\n",
       "      <td>M. Pellegrini acquitté TESSIN « H Lavoro », l'hebdomadaire des syndicats chrétiens-sociaux du Te...</td>\n",
       "      <td>1494</td>\n",
       "    </tr>\n",
       "    <tr>\n",
       "      <th>237</th>\n",
       "      <td>GDL</td>\n",
       "      <td>1968-07-27</td>\n",
       "      <td>5</td>\n",
       "      <td>NaN</td>\n",
       "      <td>Pour une politique agricole cohérente LA CHAMBRE VAUDOISE D'AGRICULTURE VIENT DE PUBLIER UN DEUX...</td>\n",
       "      <td>5349</td>\n",
       "    </tr>\n",
       "  </tbody>\n",
       "</table>\n",
       "</div>"
      ],
      "text/plain": [
       "     mag        date  page  ppage                                                                                                 text  length\n",
       "233  GDL  1968-07-27     1    NaN  L'échec de Moscou BULLETIN Au-delà des rumeurs contradictoires qui sont le lot de toute guerre d...    4135\n",
       "234  GDL  1968-07-27     2    NaN  \\ iomus >\\\\ I////LOUIJ //|\\ \\ v . Magnifiques circuits en cars pullman 3 Jours : 28-30 juillet C...     873\n",
       "235  GDL  1968-07-27     3    NaN  MÉCANISME INDISPENSABLE AU DÉVELOPPEMENT INDUSTRIEL LA BOURSE DANS L'ECONOMIE SUISSE.-V, par Gér...    7341\n",
       "236  GDL  1968-07-27     4    NaN  M. Pellegrini acquitté TESSIN « H Lavoro », l'hebdomadaire des syndicats chrétiens-sociaux du Te...    1494\n",
       "237  GDL  1968-07-27     5    NaN  Pour une politique agricole cohérente LA CHAMBRE VAUDOISE D'AGRICULTURE VIENT DE PUBLIER UN DEUX...    5349"
      ]
     },
     "metadata": {},
     "output_type": "display_data"
    },
    {
     "name": "stdout",
     "output_type": "stream",
     "text": [
      "Length df: 131      430\n",
      "71       424\n",
      "200      419\n",
      "201      409\n",
      "68       378\n",
      "        ... \n",
      "16745      1\n",
      "30178      1\n",
      "19048      1\n",
      "29295      1\n",
      "10093      1\n",
      "Name: length, Length: 12524, dtype: int64\n"
     ]
    },
    {
     "name": "stderr",
     "output_type": "stream",
     "text": [
      "/opt/anaconda3/lib/python3.7/site-packages/pandas/core/generic.py:5303: SettingWithCopyWarning: \n",
      "A value is trying to be set on a copy of a slice from a DataFrame.\n",
      "Try using .loc[row_indexer,col_indexer] = value instead\n",
      "\n",
      "See the caveats in the documentation: https://pandas.pydata.org/pandas-docs/stable/user_guide/indexing.html#returning-a-view-versus-a-copy\n",
      "  self[name] = value\n"
     ]
    },
    {
     "data": {
      "text/html": [
       "<div>\n",
       "<style scoped>\n",
       "    .dataframe tbody tr th:only-of-type {\n",
       "        vertical-align: middle;\n",
       "    }\n",
       "\n",
       "    .dataframe tbody tr th {\n",
       "        vertical-align: top;\n",
       "    }\n",
       "\n",
       "    .dataframe thead th {\n",
       "        text-align: right;\n",
       "    }\n",
       "</style>\n",
       "<table border=\"1\" class=\"dataframe\">\n",
       "  <thead>\n",
       "    <tr style=\"text-align: right;\">\n",
       "      <th></th>\n",
       "      <th>mag</th>\n",
       "      <th>date</th>\n",
       "      <th>page</th>\n",
       "      <th>ppage</th>\n",
       "      <th>text</th>\n",
       "      <th>length</th>\n",
       "    </tr>\n",
       "  </thead>\n",
       "  <tbody>\n",
       "    <tr>\n",
       "      <th>233</th>\n",
       "      <td>GDL</td>\n",
       "      <td>1968-07-27</td>\n",
       "      <td>1</td>\n",
       "      <td>NaN</td>\n",
       "      <td>L'échec de Moscou BULLETIN Au-delà des rumeurs contradictoires qui sont le lot de toute guerre d...</td>\n",
       "      <td>4135</td>\n",
       "    </tr>\n",
       "    <tr>\n",
       "      <th>234</th>\n",
       "      <td>GDL</td>\n",
       "      <td>1968-07-27</td>\n",
       "      <td>2</td>\n",
       "      <td>NaN</td>\n",
       "      <td>\\ iomus &gt;\\\\ I////LOUIJ //|\\ \\ v . Magnifiques circuits en cars pullman 3 Jours : 28-30 juillet C...</td>\n",
       "      <td>873</td>\n",
       "    </tr>\n",
       "    <tr>\n",
       "      <th>235</th>\n",
       "      <td>GDL</td>\n",
       "      <td>1968-07-27</td>\n",
       "      <td>3</td>\n",
       "      <td>NaN</td>\n",
       "      <td>MÉCANISME INDISPENSABLE AU DÉVELOPPEMENT INDUSTRIEL LA BOURSE DANS L'ECONOMIE SUISSE.-V, par Gér...</td>\n",
       "      <td>7341</td>\n",
       "    </tr>\n",
       "    <tr>\n",
       "      <th>236</th>\n",
       "      <td>GDL</td>\n",
       "      <td>1968-07-27</td>\n",
       "      <td>4</td>\n",
       "      <td>NaN</td>\n",
       "      <td>M. Pellegrini acquitté TESSIN « H Lavoro », l'hebdomadaire des syndicats chrétiens-sociaux du Te...</td>\n",
       "      <td>1494</td>\n",
       "    </tr>\n",
       "    <tr>\n",
       "      <th>237</th>\n",
       "      <td>GDL</td>\n",
       "      <td>1968-07-27</td>\n",
       "      <td>5</td>\n",
       "      <td>NaN</td>\n",
       "      <td>Pour une politique agricole cohérente LA CHAMBRE VAUDOISE D'AGRICULTURE VIENT DE PUBLIER UN DEUX...</td>\n",
       "      <td>5349</td>\n",
       "    </tr>\n",
       "  </tbody>\n",
       "</table>\n",
       "</div>"
      ],
      "text/plain": [
       "     mag        date  page  ppage                                                                                                 text  length\n",
       "233  GDL  1968-07-27     1    NaN  L'échec de Moscou BULLETIN Au-delà des rumeurs contradictoires qui sont le lot de toute guerre d...    4135\n",
       "234  GDL  1968-07-27     2    NaN  \\ iomus >\\\\ I////LOUIJ //|\\ \\ v . Magnifiques circuits en cars pullman 3 Jours : 28-30 juillet C...     873\n",
       "235  GDL  1968-07-27     3    NaN  MÉCANISME INDISPENSABLE AU DÉVELOPPEMENT INDUSTRIEL LA BOURSE DANS L'ECONOMIE SUISSE.-V, par Gér...    7341\n",
       "236  GDL  1968-07-27     4    NaN  M. Pellegrini acquitté TESSIN « H Lavoro », l'hebdomadaire des syndicats chrétiens-sociaux du Te...    1494\n",
       "237  GDL  1968-07-27     5    NaN  Pour une politique agricole cohérente LA CHAMBRE VAUDOISE D'AGRICULTURE VIENT DE PUBLIER UN DEUX...    5349"
      ]
     },
     "metadata": {},
     "output_type": "display_data"
    },
    {
     "name": "stdout",
     "output_type": "stream",
     "text": [
      "Length df: 71       358\n",
      "131      320\n",
      "68       310\n",
      "200      255\n",
      "107      244\n",
      "        ... \n",
      "11361      1\n",
      "11739      1\n",
      "7828       1\n",
      "9690       1\n",
      "5993       1\n",
      "Name: length, Length: 9468, dtype: int64\n"
     ]
    },
    {
     "name": "stderr",
     "output_type": "stream",
     "text": [
      "/opt/anaconda3/lib/python3.7/site-packages/pandas/core/generic.py:5303: SettingWithCopyWarning: \n",
      "A value is trying to be set on a copy of a slice from a DataFrame.\n",
      "Try using .loc[row_indexer,col_indexer] = value instead\n",
      "\n",
      "See the caveats in the documentation: https://pandas.pydata.org/pandas-docs/stable/user_guide/indexing.html#returning-a-view-versus-a-copy\n",
      "  self[name] = value\n"
     ]
    },
    {
     "data": {
      "text/html": [
       "<div>\n",
       "<style scoped>\n",
       "    .dataframe tbody tr th:only-of-type {\n",
       "        vertical-align: middle;\n",
       "    }\n",
       "\n",
       "    .dataframe tbody tr th {\n",
       "        vertical-align: top;\n",
       "    }\n",
       "\n",
       "    .dataframe thead th {\n",
       "        text-align: right;\n",
       "    }\n",
       "</style>\n",
       "<table border=\"1\" class=\"dataframe\">\n",
       "  <thead>\n",
       "    <tr style=\"text-align: right;\">\n",
       "      <th></th>\n",
       "      <th>mag</th>\n",
       "      <th>date</th>\n",
       "      <th>page</th>\n",
       "      <th>ppage</th>\n",
       "      <th>text</th>\n",
       "      <th>length</th>\n",
       "    </tr>\n",
       "  </thead>\n",
       "  <tbody>\n",
       "    <tr>\n",
       "      <th>0</th>\n",
       "      <td>JDG</td>\n",
       "      <td>1968-07-20</td>\n",
       "      <td>1</td>\n",
       "      <td>NaN</td>\n",
       "      <td>Qui est le vrai Couve de Murville ? (De notre correspondant de Paris) • Le nouveau gouvernement ...</td>\n",
       "      <td>4516</td>\n",
       "    </tr>\n",
       "    <tr>\n",
       "      <th>1</th>\n",
       "      <td>JDG</td>\n",
       "      <td>1968-07-20</td>\n",
       "      <td>2</td>\n",
       "      <td>NaN</td>\n",
       "      <td>Vente 'en faveur du « Teatro popolare viaggiante » Chiffres faussés ? Lucerne, 19.-(ATS). La gra...</td>\n",
       "      <td>1628</td>\n",
       "    </tr>\n",
       "    <tr>\n",
       "      <th>2</th>\n",
       "      <td>JDG</td>\n",
       "      <td>1968-07-20</td>\n",
       "      <td>3</td>\n",
       "      <td>NaN</td>\n",
       "      <td>Nouveau Cabinet irakien •• Bagdad, 19.-(AFP) Le nouveau gouvernement irakien, formé jeudi soir p...</td>\n",
       "      <td>1485</td>\n",
       "    </tr>\n",
       "    <tr>\n",
       "      <th>3</th>\n",
       "      <td>JDG</td>\n",
       "      <td>1968-07-20</td>\n",
       "      <td>4</td>\n",
       "      <td>NaN</td>\n",
       "      <td>Sympathie toujours, maIs aussI se 've' .,, ; te'menacante • • , If A en croire certains passages...</td>\n",
       "      <td>14899</td>\n",
       "    </tr>\n",
       "    <tr>\n",
       "      <th>4</th>\n",
       "      <td>JDG</td>\n",
       "      <td>1968-07-20</td>\n",
       "      <td>5</td>\n",
       "      <td>NaN</td>\n",
       "      <td>No 168-20-21 juillet. 1968 'JOURNAL DI ! : GE ~ EVE 5 E ,: ~ L ..': Gêi, v ~': rzn 7 ~ =: mlK. ,...</td>\n",
       "      <td>15433</td>\n",
       "    </tr>\n",
       "  </tbody>\n",
       "</table>\n",
       "</div>"
      ],
      "text/plain": [
       "   mag        date  page  ppage                                                                                                 text  length\n",
       "0  JDG  1968-07-20     1    NaN  Qui est le vrai Couve de Murville ? (De notre correspondant de Paris) • Le nouveau gouvernement ...    4516\n",
       "1  JDG  1968-07-20     2    NaN  Vente 'en faveur du « Teatro popolare viaggiante » Chiffres faussés ? Lucerne, 19.-(ATS). La gra...    1628\n",
       "2  JDG  1968-07-20     3    NaN  Nouveau Cabinet irakien •• Bagdad, 19.-(AFP) Le nouveau gouvernement irakien, formé jeudi soir p...    1485\n",
       "3  JDG  1968-07-20     4    NaN  Sympathie toujours, maIs aussI se 've' .,, ; te'menacante • • , If A en croire certains passages...   14899\n",
       "4  JDG  1968-07-20     5    NaN  No 168-20-21 juillet. 1968 'JOURNAL DI ! : GE ~ EVE 5 E ,: ~ L ..': Gêi, v ~': rzn 7 ~ =: mlK. ,...   15433"
      ]
     },
     "metadata": {},
     "output_type": "display_data"
    },
    {
     "name": "stdout",
     "output_type": "stream",
     "text": [
      "Length df: 201      185\n",
      "215      178\n",
      "203      173\n",
      "214      172\n",
      "138      170\n",
      "        ... \n",
      "9015       1\n",
      "11062      1\n",
      "7792       1\n",
      "12981      1\n",
      "5949       1\n",
      "Name: length, Length: 11135, dtype: int64\n"
     ]
    }
   ],
   "source": [
    " df_all, df_gdl, df_jdg = run(gdl_, jdg_, date, files_dir)"
   ]
  },
  {
   "cell_type": "markdown",
   "metadata": {},
   "source": [
    "* Keywords filtering"
   ]
  },
  {
   "cell_type": "code",
   "execution_count": 5,
   "metadata": {},
   "outputs": [],
   "source": [
    "#keywords_1962 =['nucléaire', 'Cuba', 'guerre', 'tension','risque', 'bombe', 'guerre nucléaire']\n",
    "#keywords_1984 = ['nucléaire','initiatives', 'initiative', 'centrale', 'centrales', 'atomique', 'atomiques', 'energie', 'votation']\n",
    "keywords_1969 = ['nucléaire',\n",
    "                    'centrale nucléaire',\n",
    "                    'lucens',\n",
    "                    'uranium',\n",
    "                    'fission',\n",
    "                    'atome',\n",
    "                    'Beznau',\n",
    "                    'Gösgen',\n",
    "                    'Leibstadt',\n",
    "                    'Mühleberg',\n",
    "                    'réacteurs', \n",
    "                    'déchets nucléaires',\n",
    "                    'accident nucléaire']\n",
    "cleaned_files_dir = \"../data/filtered/\"\n",
    "unwanted = ['tableau hebdomadaire']#, '(\\/(\\s\\d*)*\\s)*']\n",
    "archives = os.listdir(files_dir)"
   ]
  },
  {
   "cell_type": "code",
   "execution_count": 6,
   "metadata": {},
   "outputs": [],
   "source": [
    "#df_all = load_corpus(cleaned_files_dir + \"cleaned_all\" + date +\".json.bz2\")\n",
    "#df_gdl = load_corpus(cleaned_files_dir + \"cleaned_gdl\" + date +\".json.bz2\")\n",
    "#df_jdg = load_corpus(cleaned_files_dir + \"cleaned_jdg\" + date +\".json.bz2\")\n",
    "\n"
   ]
  },
  {
   "cell_type": "code",
   "execution_count": 7,
   "metadata": {
    "scrolled": false
   },
   "outputs": [
    {
     "name": "stdout",
     "output_type": "stream",
     "text": [
      "===KEYWORDS===\n"
     ]
    },
    {
     "data": {
      "text/plain": [
       "'After keyword filtered: '"
      ]
     },
     "metadata": {},
     "output_type": "display_data"
    },
    {
     "data": {
      "text/plain": [
       "(1569, 20)"
      ]
     },
     "metadata": {},
     "output_type": "display_data"
    },
    {
     "name": "stdout",
     "output_type": "stream",
     "text": [
      "=====UNWANTED====\n"
     ]
    },
    {
     "data": {
      "text/plain": [
       "'After keyword filtered: '"
      ]
     },
     "metadata": {},
     "output_type": "display_data"
    },
    {
     "data": {
      "text/plain": [
       "(1569, 20)"
      ]
     },
     "metadata": {},
     "output_type": "display_data"
    }
   ],
   "source": [
    "df_all_ = keywords_filtering(df_all, keywords_1969)\n",
    "df_all_ = unwanted_filtering(df_all_, unwanted)\n"
   ]
  },
  {
   "cell_type": "code",
   "execution_count": 8,
   "metadata": {},
   "outputs": [
    {
     "name": "stdout",
     "output_type": "stream",
     "text": [
      "===KEYWORDS===\n"
     ]
    },
    {
     "data": {
      "text/plain": [
       "'After keyword filtered: '"
      ]
     },
     "metadata": {},
     "output_type": "display_data"
    },
    {
     "data": {
      "text/plain": [
       "(706, 20)"
      ]
     },
     "metadata": {},
     "output_type": "display_data"
    },
    {
     "name": "stdout",
     "output_type": "stream",
     "text": [
      "=====UNWANTED====\n"
     ]
    },
    {
     "data": {
      "text/plain": [
       "'After keyword filtered: '"
      ]
     },
     "metadata": {},
     "output_type": "display_data"
    },
    {
     "data": {
      "text/plain": [
       "(706, 20)"
      ]
     },
     "metadata": {},
     "output_type": "display_data"
    }
   ],
   "source": [
    "df_gdl_ = keywords_filtering(df_gdl, keywords_1969)\n",
    "df_gdl_ = unwanted_filtering(df_gdl_, unwanted)"
   ]
  },
  {
   "cell_type": "code",
   "execution_count": 9,
   "metadata": {},
   "outputs": [
    {
     "name": "stdout",
     "output_type": "stream",
     "text": [
      "===KEYWORDS===\n"
     ]
    },
    {
     "data": {
      "text/plain": [
       "'After keyword filtered: '"
      ]
     },
     "metadata": {},
     "output_type": "display_data"
    },
    {
     "data": {
      "text/plain": [
       "(863, 20)"
      ]
     },
     "metadata": {},
     "output_type": "display_data"
    },
    {
     "name": "stdout",
     "output_type": "stream",
     "text": [
      "=====UNWANTED====\n"
     ]
    },
    {
     "data": {
      "text/plain": [
       "'After keyword filtered: '"
      ]
     },
     "metadata": {},
     "output_type": "display_data"
    },
    {
     "data": {
      "text/plain": [
       "(863, 20)"
      ]
     },
     "metadata": {},
     "output_type": "display_data"
    }
   ],
   "source": [
    "df_jdg_ = keywords_filtering(df_jdg, keywords_1969)\n",
    "df_jdg_ = unwanted_filtering(df_jdg_, unwanted)"
   ]
  },
  {
   "cell_type": "markdown",
   "metadata": {},
   "source": [
    "* Export iramutek"
   ]
  },
  {
   "cell_type": "code",
   "execution_count": null,
   "metadata": {},
   "outputs": [],
   "source": []
  },
  {
   "cell_type": "code",
   "execution_count": 10,
   "metadata": {},
   "outputs": [],
   "source": [
    "creating_iramutek_file(df_all_, \"../data/iramutek/corpus_all\" + date +\".txt\")\n",
    "creating_iramutek_file(df_jdg_, \"../data/iramutek/corpus_jdg\" + date +\".txt\")\n",
    "creating_iramutek_file(df_gdl_, \"../data/iramutek/corpus_gdl\" + date +\".txt\")"
   ]
  },
  {
   "cell_type": "code",
   "execution_count": null,
   "metadata": {},
   "outputs": [],
   "source": []
  }
 ],
 "metadata": {
  "kernelspec": {
   "display_name": "Python 3",
   "language": "python",
   "name": "python3"
  },
  "language_info": {
   "codemirror_mode": {
    "name": "ipython",
    "version": 3
   },
   "file_extension": ".py",
   "mimetype": "text/x-python",
   "name": "python",
   "nbconvert_exporter": "python",
   "pygments_lexer": "ipython3",
   "version": "3.7.6"
  }
 },
 "nbformat": 4,
 "nbformat_minor": 4
}
